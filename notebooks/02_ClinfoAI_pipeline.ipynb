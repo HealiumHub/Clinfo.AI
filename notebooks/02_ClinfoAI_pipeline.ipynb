{
 "cells": [
  {
   "cell_type": "code",
   "execution_count": 1,
   "metadata": {},
   "outputs": [
    {
     "name": "stderr",
     "output_type": "stream",
     "text": [
      "/pasteur/u/ale9806/miniconda3/envs/clinfo/lib/python3.9/site-packages/transformers/utils/hub.py:124: FutureWarning: Using `TRANSFORMERS_CACHE` is deprecated and will be removed in v5 of Transformers. Use `HF_HOME` instead.\n",
      "  warnings.warn(\n"
     ]
    }
   ],
   "source": [
    "import sys\n",
    "import os\n",
    "from pathlib import Path\n",
    "\n",
    "sys.path.append(str(Path.cwd().parent))\n",
    "from config import OPENAI_API_KEY, NCBI_API_KEY, EMAIL\n",
    "from src.clinfoai.clinfoai import ClinfoAI\n",
    "\n",
    "OPENAI_API_KEY = os.getenv(\"OPENAI_API_KEY\")"
   ]
  },
  {
   "cell_type": "markdown",
   "metadata": {},
   "source": [
    "# Using Clinfo.AI (In Depth Tutorial)\n",
    "\n",
    "In this tutorial, we will see how to run clinfo.ai in as a module, in which all the steps have been abstracted. \n",
    "\n",
    "If you have done tutorial 01, you can skip the next steps, if not, you will need to follow them to get the credentials, KEYs needed to run clinfo.ai\n",
    "\n",
    "### 1.- Setting up enviorment:\n",
    "1.a.- Install the conda enviroment using the yml file provided.\n",
    "\n",
    "``` conda env create -f environment.yaml ```\n",
    "\n",
    "1.b.- Select your enviorment to run notebook. I recommend using vscode: \n",
    "\n",
    "\n",
    "\n",
    "### 2.- Creating Accounts\n",
    "\n",
    "You will need at least one account and at most two (depending on how many calls/hour you plan to do):\n",
    "* OPENAI account: If you start a free account for the first time, you will get $5 in API credits.\n",
    "* NCBI_API_KEY: This is only necessary if you plan to make more than 10 calls per hour.\n",
    "\n",
    "\n",
    "Once you have created both accounts  go to **src\\config.py** file and: \n",
    "\n",
    "* Set OPENAI_API_KEY to your openAI API key\n",
    "\n",
    "If you created an NCBI API account add your key and email in the following values: \n",
    "* NCBI_API_KEY \n",
    "* EMAIL \n",
    "Otherwise leave them as None\n",
    "\n",
    "\n",
    "\n",
    "\n",
    "\n",
    "### 3.- Defining your own promts:\n",
    "We have designed prompts for each step of Clinfo.ai Workflow, leaveriging the power of in-contex-learning. If you want to us your own promps you can edit them **src\\prompts**\n"
   ]
  },
  {
   "cell_type": "code",
   "execution_count": 2,
   "metadata": {},
   "outputs": [
    {
     "name": "stdout",
     "output_type": "stream",
     "text": [
      "\n",
      "Task Name: pubmed_query_prompt\n",
      "------------------------------------------------------------------------\n",
      "\n",
      "Task Name: relevance_prompt\n",
      "------------------------------------------------------------------------\n",
      "\n",
      "Task Name: summarization_prompt\n",
      "------------------------------------------------------------------------\n",
      "\n",
      "Task Name: synthesize_prompt\n",
      "------------------------------------------------------------------------\n",
      "Trying to init model via VLM\n",
      "PubMed Retriever Initialized\n"
     ]
    },
    {
     "name": "stderr",
     "output_type": "stream",
     "text": [
      "/pasteur/u/ale9806/miniconda3/envs/clinfo/lib/python3.9/site-packages/langchain_core/_api/deprecation.py:139: LangChainDeprecationWarning: The method `BaseChatModel.__call__` was deprecated in langchain-core 0.1.7 and will be removed in 0.3.0. Use invoke instead.\n",
      "  warn_deprecated(\n"
     ]
    },
    {
     "name": "stdout",
     "output_type": "stream",
     "text": [
      "Could not find 'Abstract' for article with PMID = 32473495\n",
      "Could not find 'Abstract' for article with PMID = 35044900\n"
     ]
    }
   ],
   "source": [
    "### Step 1 : Ask a question ###\n",
    "question    = \"What is the prevalence of COVID-19 in the United States?\"\n",
    "MODEL:str    = \"gpt-3.5-turbo\"\n",
    "MODEL:str    = \"Qwen/Qwen2-beta-7B-Chat\"\n",
    "PROMPS_PATH  = os.path.join(\"..\",\"src\",\"clinfoai\",\"prompts\",\"PubMed\",\"Architecture_1\",\"master.json\")\n",
    "clinfo = ClinfoAI(llm        = MODEL,\n",
    "                  architecture_path = PROMPS_PATH,\n",
    "                  openai_key = OPENAI_API_KEY, \n",
    "                  email      = EMAIL)\n",
    "answer = clinfo.forward(question=question)         # Pipepline"
   ]
  },
  {
   "cell_type": "code",
   "execution_count": 3,
   "metadata": {},
   "outputs": [
    {
     "name": "stdout",
     "output_type": "stream",
     "text": [
      "dict_keys(['synthesis', 'article_summaries', 'irrelevant_articles', 'queries'])\n"
     ]
    }
   ],
   "source": [
    "# The answer dictionary contains all the outputs from each step of clinfo.ai (as explained in tutorial 01),\n",
    "print(answer.keys())"
   ]
  },
  {
   "cell_type": "code",
   "execution_count": 5,
   "metadata": {},
   "outputs": [
    {
     "name": "stdout",
     "output_type": "stream",
     "text": [
      "Literature Summary: The prevalence of COVID-19 in the United States varies across studies, with a pooled prevalence of 0.31% from a meta-analysis of patients with post-COVID-19 conditions (Chen et al., 2021). A study examining county-level greenspace exposure found a reduced risk of COVID-19 mortality associated with higher greenspace, particularly LAI deciles 8-10 (Abedi et al., 2020). However, racial and ethnic minority groups, particularly African Americans, Hispanics, and Asians, had higher risks of positivity and severe outcomes compared to White individuals (WHO Health Emergency Dashboard, 2021). A study on dental hygienists reported a low prevalence of 3.1% among practitioners, with mental health symptoms being elevated (Estrich et al., 2020). A descriptive analysis of COVID-19-related deaths found increased risk factors for cardiovascular disease (Ahmad & Anderson, 2021) and a prevalence of 1.7% during the peak of stay-at-home orders (Centers for Disease Control and Prevention, 2020). A meta-analysis of vaccine hesitancy found 61% of participants willing to receive the vaccine, with higher rates among Black and Republican respondents (Kirzinger et al., 2021). A cross-sectional analysis in adolescents and youth showed a higher prevalence compared to older adults (Dong et al., 2020).\n",
      "\n",
      "TL;DR: The prevalence of COVID-19 in the United States ranges from 0.31% to 1.7% across studies, with disparities among racial and ethnic groups, and a lower prevalence among dental hygienists during the pandemic.\n",
      "\n",
      "References:\n",
      "1. Chen C, Haupert SR, Zimmermann L, Shi X, Fritsche LG, Mukherjee B. (2021). Global Prevalence of Post-Coronavirus Disease 2019 (COVID-19) Condition or Long COVID: A Meta-Analysis and Systematic Review. The Journal of infectious diseases, 226(9), 1593-1607.\n",
      "2. Abedi V., Olulana O., Avula V., Chaudhary D., Khan A., Shahjouei S., Li J., Zand R. (2020). Racial, Economic, and Health Inequality and COVID-19 Infection in the United States. medRxiv.\n",
      "3. WHO Health Emergency Dashboard. (2021). [Accessed October 12, 2021]. https://extranet.who.int/publicemergency\n",
      "4. Estrich CG, Gurenlian JR, Battrell A, et al. (2020). COVID-19 Prevalence and Related Practices among Dental Hygienists in the United States. Journal of dental hygiene, 95(1), 6-16.\n",
      "5. Ahmad F.B., Anderson R.N. (2021). The leading causes of death in the US for 2020. JAMA, 325(18), 1829.\n",
      "6. Koh D. (2020). Occupational risks for COVID-19 infection. Occup Med (Lond), 70(1), 3-5.\n",
      "7. Centers for Disease Control and Prevention. (2020). Cases in the U.S. New Cases by Day. [Accessed August 19, 2020]. https://www.cdc.gov/coronavirus/2019-ncov/cases-updates/cases-in-us.html\n",
      "8. Kirzinger A., Sparks G., Hamel L., et al. (2021). Kaiser Family Foundation Vaccine Monitor: July 2021. KFF COVID-19 vaccine monitor: July 2021.\n",
      "9. Dong Y., Mo X., Hu Y., Qi X., Jiang F., Jiang Z., et al. (2020). Epidemiological characteristics of 2143 pediatric patients with 2019 coronavirus disease in China. Pediatrics, 145(6), e20200702.\n",
      "10. Esper F.P., Spahlinger T., Zhou L. (2011). Rate and influence of respiratory virus co-infection on pandemic (H1N1) influenza disease. Journal of Infectious Diseases, 63, 260-266.\n",
      "\n",
      "References:\n",
      "<ul><li><a href=\"https://pubmed.ncbi.nlm.nih.gov/35429399/\"   target=\"_blank\"> [1] Chen C, Haupert SR, Zimmermann L, Shi X, Fritsche LG, Mukherjee B. Global Prevalence of Post-Coronavirus Disease 2019 (COVID-19) Condition or Long COVID: A Meta-Analysis and Systematic Review.. The Journal of infectious diseases. 2021;226(9):1593-1607.</a></li>\n",
      "<li><a href=\"https://pubmed.ncbi.nlm.nih.gov/33932476/\"   target=\"_blank\"> [2] Abedi V., Olulana O., Avula V., Chaudhary D., Khan A., Shahjouei S., Li J., Zand R. 2020. Racial, Economic and Health Inequality and COVID-19 Infection in the United States. medRxiv.</a></li>\n",
      "<li><a href=\"https://pubmed.ncbi.nlm.nih.gov/34762110/\"   target=\"_blank\"> [3] WHO Health Emergency Dashboard . Accessed October 12, 2021. https://extranet.who.int/publicemergency</a></li>\n",
      "<li><a href=\"https://pubmed.ncbi.nlm.nih.gov/33627448/\"   target=\"_blank\"> [4] Estrich CG, Gurenlian JR, Battrell A, Bessner SK, Lynch A, Mikkelsen M, Morrissey R, Araujo MWB, Vujicic M. COVID-19 Prevalence and Related Practices among Dental Hygienists in the United States.. Journal of dental hygiene : JDH. 2020;95(1):6-16.</a></li>\n",
      "<li><a href=\"https://pubmed.ncbi.nlm.nih.gov/36279944/\"   target=\"_blank\"> [5] Ahmad F.B., Anderson R.N. The leading causes of death in the US for 2020. JAMA. 2021;325(18):1829. doi: 10.1001/jama.2021.5469.</a></li>\n",
      "<li><a href=\"https://pubmed.ncbi.nlm.nih.gov/37053525/\"   target=\"_blank\"> [6] Koh D. Occupational risks for COVID-19 infection. Occup Med (Lond). 2020;70(1):3–5. doi: 10.1093/occmed/kqaa036.</a></li>\n",
      "<li><a href=\"https://pubmed.ncbi.nlm.nih.gov/32876685/\"   target=\"_blank\"> [7] Healthline  Traumatic events: causes, effects, and management. Accessed April 13, 2020. https://www.healthline.com/health/traumatic-events</a></li>\n",
      "<li><a href=\"https://pubmed.ncbi.nlm.nih.gov/33481900/\"   target=\"_blank\"> [8] Centers for Disease Control and Prevention. Coronavirus Disease 2019 (COVID-19). Cases in the U.S. New Cases by Day. 2020 Jan 21 [Cited 2020 Aug 19]. Available from: https://www.cdc.gov/coronavirus/2019-ncov/cases-updates/cases-in-us.html</a></li>\n",
      "<li><a href=\"https://pubmed.ncbi.nlm.nih.gov/35486981/\"   target=\"_blank\"> [9] Kirzinger A., Sparks G., Hamel L., et al.   Kaiser Family Foundation Vaccine Monitor; Published July 2021. KFF COVID-19 vaccine monitor: July 2021.https://www.kff.org/coronavirus-covid-19/poll-finding/kff-covid-19-vaccine-monitor-july-2021/</a></li>\n",
      "<li><a href=\"https://pubmed.ncbi.nlm.nih.gov/33690600/\"   target=\"_blank\"> [10] Dong Y., Mo X., Hu Y., Qi X., Jiang F., Jiang Z., et al.. Epidemiological characteristics of 2143 pediatric patients with 2019 coronavirus disease in China. Pediatrics. 2020. June; 145: e20200702; 10.1542/peds.2020-0702</a></li>\n",
      "<li><a href=\"https://pubmed.ncbi.nlm.nih.gov/32711058/\"   target=\"_blank\"> [11] Esper F.P., Spahlinger T., Zhou L. Rate and influence of respiratory virus co-infection on pandemic (H1N1) influenza disease. J Infect. 2011;63:260–266.</a></li></ul>\n"
     ]
    }
   ],
   "source": [
    "print(answer[\"synthesis\"])"
   ]
  },
  {
   "cell_type": "code",
   "execution_count": null,
   "metadata": {},
   "outputs": [],
   "source": []
  }
 ],
 "metadata": {
  "kernelspec": {
   "display_name": "Python 3 (ipykernel)",
   "language": "python",
   "name": "python3"
  },
  "language_info": {
   "codemirror_mode": {
    "name": "ipython",
    "version": 3
   },
   "file_extension": ".py",
   "mimetype": "text/x-python",
   "name": "python",
   "nbconvert_exporter": "python",
   "pygments_lexer": "ipython3",
   "version": "3.9.16"
  }
 },
 "nbformat": 4,
 "nbformat_minor": 4
}
