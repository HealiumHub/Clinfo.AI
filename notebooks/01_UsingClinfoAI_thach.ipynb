{
 "cells": [
  {
   "cell_type": "code",
   "execution_count": 1,
   "metadata": {},
   "outputs": [],
   "source": [
    "import sys\n",
    "import os\n",
    "from  pathlib import  Path\n",
    "sys.path.append(str(Path.cwd().parent))\n",
    "from  config import OPENAI_API_KEY,NCBI_API_KEY,EMAIL\n",
    "from  src.clinfoai.pubmed_engine import PubMedNeuralRetriever"
   ]
  },
  {
   "cell_type": "markdown",
   "metadata": {},
   "source": [
    "# Using Clinfo.AI \n",
    "\n",
    "In this tutorial, we will go through each step of the Clinfo.AI workflow. Before we start, we need to set up a few things. \n",
    "\n",
    "\n",
    "### 1.- Setting up enviorment:\n",
    "1.a.- Install the conda enviroment using the yml file provided.\n",
    "\n",
    "``` conda env create -f environment.yaml ```\n",
    "\n",
    "1.b.- Select your environment to run notebook. I recommend using VScode: \n",
    "\n",
    "\n",
    "\n",
    "### 2.- Creating Accounts\n",
    "\n",
    "You will need at least one account and at most two (depending on how many calls/hour you plan to do):\n",
    "* OPENAI account: If you start a free account for the first time, you will get $5 in API credits.\n",
    "* NCBI_API_KEY: This is only necessary if you plan to make more than 10 calls per hour.\n",
    "\n",
    "\n",
    "Once you have created both accounts  go to **src\\config.py** file and: \n",
    "\n",
    "* Set OPENAI_API_KEY to your openAI API key\n",
    "\n",
    "If you created an NCBI API account add your key and email in the following values: \n",
    "* NCBI_API_KEY \n",
    "* EMAIL\n",
    "* \n",
    "Otherwise, leave them as None"
   ]
  },
  {
   "cell_type": "code",
   "execution_count": 2,
   "metadata": {},
   "outputs": [],
   "source": [
    "# Make Sure you followed at least step 1-2 before running this cell.\n",
    "from  config import OPENAI_API_KEY, NCBI_API_KEY, EMAIL\n",
    "os.environ[\"OPENAI_API_KEY\"] = OPENAI_API_KEY\n"
   ]
  },
  {
   "cell_type": "markdown",
   "metadata": {},
   "source": [
    "### 3.- Defining your own promts:\n",
    "We have designed prompts for each step of Clinfo.ai Workflow, leaveriging the power of in-contex-learning. If you want to us your own promps you can edit them **src\\prompts** otherwise we will use the default prompts:"
   ]
  },
  {
   "cell_type": "code",
   "execution_count": 3,
   "metadata": {},
   "outputs": [
    {
     "name": "stdout",
     "output_type": "stream",
     "text": [
      "/Users/nanh/Documents/RMIT/Capstone/Untitled/Clinfo.AI/notebooks\n"
     ]
    }
   ],
   "source": [
    "PROMPS_PATH = os.path.join(\"..\", \"src\",\"clinfoai\",\"prompts\",\"PubMed\",\"Architecture_1\",\"master.json\")\n",
    "current_directory = os.getcwd()\n",
    "print(current_directory)"
   ]
  },
  {
   "cell_type": "markdown",
   "metadata": {},
   "source": [
    "### 4.- Define Clinfo.AI LLM Backbone\n",
    "Clinfo uses a chain of LLMs to summarize information, thus we need to define an LLM backbone. \n",
    "\n",
    "We will start with OpenAI models, however, if you have access to GPUs it is possible to use Clinfo.AI with vLLM to use OpenSource LLMs as backbones (check tutorial 3)."
   ]
  },
  {
   "cell_type": "code",
   "execution_count": 4,
   "metadata": {},
   "outputs": [],
   "source": [
    "MODEL:str  = \"gpt-3.5-turbo\"\n",
    "#MODEL:str = \"Qwen/Qwen2-beta-7B-Chat\""
   ]
  },
  {
   "cell_type": "markdown",
   "metadata": {},
   "source": [
    "### 5.- Init Clinfo+Pubmed Engnie\n",
    "We have all the necessary data to start our clinfo+pubmed instance:"
   ]
  },
  {
   "cell_type": "code",
   "execution_count": 5,
   "metadata": {},
   "outputs": [
    {
     "name": "stdout",
     "output_type": "stream",
     "text": [
      "\n",
      "Task Name: pubmed_query_prompt\n",
      "------------------------------------------------------------------------\n",
      "\n",
      "Task Name: relevance_prompt\n",
      "------------------------------------------------------------------------\n",
      "\n",
      "Task Name: summarization_prompt\n",
      "------------------------------------------------------------------------\n",
      "\n",
      "Task Name: synthesize_prompt\n",
      "------------------------------------------------------------------------\n"
     ]
    }
   ],
   "source": [
    "## 5.- Init Neural Retriever from path. \n",
    "# Do not change the path if you want to use base  prompts, otherwise specify your own prompt architecture\n",
    "\n",
    "nrpm = PubMedNeuralRetriever(\n",
    "    architecture_path = PROMPS_PATH,\n",
    "    model             = MODEL,\n",
    "    verbose           = False,\n",
    "    debug             = False,\n",
    "    open_ai_key       = OPENAI_API_KEY,\n",
    "    email             = EMAIL)"
   ]
  },
  {
   "cell_type": "markdown",
   "metadata": {},
   "source": [
    "# Let's start!"
   ]
  },
  {
   "cell_type": "code",
   "execution_count": 6,
   "metadata": {},
   "outputs": [
    {
     "name": "stderr",
     "output_type": "stream",
     "text": [
      "/Users/nanh/Library/Caches/pypoetry/virtualenvs/clinfo-ai-VsAWCREL-py3.12/lib/python3.12/site-packages/langchain_core/_api/deprecation.py:139: LangChainDeprecationWarning: The class `ChatOpenAI` was deprecated in LangChain 0.0.10 and will be removed in 0.3.0. An updated version of the class exists in the langchain-openai package and should be used instead. To use it run `pip install -U langchain-openai` and import as `from langchain_openai import ChatOpenAI`.\n",
      "  warn_deprecated(\n",
      "/Users/nanh/Library/Caches/pypoetry/virtualenvs/clinfo-ai-VsAWCREL-py3.12/lib/python3.12/site-packages/langchain_core/_api/deprecation.py:139: LangChainDeprecationWarning: The method `BaseChatModel.__call__` was deprecated in langchain-core 0.1.7 and will be removed in 0.3.0. Use invoke instead.\n",
      "  warn_deprecated(\n"
     ]
    },
    {
     "name": "stdout",
     "output_type": "stream",
     "text": [
      "Articles retrived: 10\n",
      "['(\"Chronic Neutropenia\" AND \"diagnosis\" AND \"tests\")']\n",
      "['30870474', '19305028', '27841775', '3534197', '10388004', '20301576', '11964321', '34303547', '24827415', '6602565']\n"
     ]
    }
   ],
   "source": [
    "### Step 0 : Ask a question ###\n",
    "QUESTION    = \"What is the prevalence of COVID-19 in the United States?\"\n",
    "QUESTION    = \"What tests are needed to diagnose Chronic Neutropenia?\"\n",
    "\n",
    "\n",
    "## STEP 1 (Search PubMed): Convert the question into a query using an LLM\n",
    "# This returns a list of queries (containing MESH terms)\n",
    "# These queries are used to retrieve articles from NCBI\n",
    "# Once retrieved we collect a list article ids.\n",
    "pubmed_queries, article_ids = nrpm.search_pubmed(\n",
    "    question=QUESTION,\n",
    "    num_results=10,\n",
    "    num_query_attempts=1)\n",
    "\n",
    "print(f\"Articles retrived: {len(article_ids)}\")\n",
    "print(pubmed_queries)\n",
    "print(article_ids)"
   ]
  },
  {
   "cell_type": "code",
   "execution_count": 7,
   "metadata": {},
   "outputs": [
    {
     "name": "stdout",
     "output_type": "stream",
     "text": [
      "Article 1:\n",
      "\n",
      "['Chronic neutropenia is a decrease in circulating neutrophils in the peripheral blood lasting over 6 months. Values need to be refered with the age and race. In children aged 2 weeks to 12 months reffered values are above 1000/03BCL. There are congenital and aquired reasons of neutropenia in infancy. The most common type of chronic neutropenia in infants is chronic, benign neutropenia (AIN). Authors present ten infants between three and six months with chronic, benign neutropenia. The reason of ordering laboratory tests at outpatient clinic were benign upper respiratory tract infections (four cases), pallor (four cases) and on parental demand (one case). In one infant neutropenia was observed during treatment of pneumonia at a district hospital.']\n"
     ]
    }
   ],
   "source": [
    "## Step 2: Fetch article data\n",
    "# Preiously, we only extracted he PMIDs. No we will use those  PMIDs to retrive the metadata:\n",
    "articles = nrpm.fetch_article_data(article_ids)\n",
    "\n",
    "# Print example for first article: \n",
    "article_num = 1\n",
    "print(f\"Article {article_num}:\\n\")\n",
    "\n",
    "#print(articles[article_num].keys())\n",
    "#print(articles[article_num]['PubmedData'])\n",
    "print(articles[article_num][\"MedlineCitation\"][\"Article\"][\"Abstract\"][\"AbstractText\"])\n",
    "#print(articles[article_num][\"MedlineCitation\"][\"Article\"])\n"
   ]
  },
  {
   "cell_type": "code",
   "execution_count": 8,
   "metadata": {},
   "outputs": [],
   "source": [
    "# STEP 3 Summarize each article\n",
    "# This step is parallelized, though it might look like one single call, it performs one call per article to summarize.\n",
    "# Then the relevancy of the article (based on the original question) is provided by another LLM call.\n",
    "\n",
    "article_summaries,irrelevant_articles =  nrpm.summarize_each_article(articles, QUESTION)"
   ]
  },
  {
   "cell_type": "code",
   "execution_count": 9,
   "metadata": {},
   "outputs": [
    {
     "data": {
      "text/plain": [
       "[{'title': '[Neutropenia in infancy - sometimes chronic and benign - own experiences].',\n",
       "  'url': 'https://pubmed.ncbi.nlm.nih.gov/19305028/',\n",
       "  'abstract': 'Chronic neutropenia is a decrease in circulating neutrophils in the peripheral blood lasting over 6 months. Values need to be refered with the age and race. In children aged 2 weeks to 12 months reffered values are above 1000/03BCL. There are congenital and aquired reasons of neutropenia in infancy. The most common type of chronic neutropenia in infants is chronic, benign neutropenia (AIN). Authors present ten infants between three and six months with chronic, benign neutropenia. The reason of ordering laboratory tests at outpatient clinic were benign upper respiratory tract infections (four cases), pallor (four cases) and on parental demand (one case). In one infant neutropenia was observed during treatment of pneumonia at a district hospital.',\n",
       "  'citation': 'Kaczorowska-Hać B, Wierzba J, Stefanowicz J, Sielachowicz K, Wlazłowski M, Balcerska A. [Neutropenia in infancy - sometimes chronic and benign - own experiences].. Medycyna wieku rozwojowego. 2009;12(3):767-70.',\n",
       "  'is_relevant': True,\n",
       "  'PMID': StringElement('19305028', attributes={'Version': '1'}),\n",
       "  'summary': 'Summary: The article presents a case series of ten infants between three and six months old with chronic, benign neutropenia. The infants were evaluated in an outpatient clinic for reasons such as benign upper respiratory tract infections, pallor, and parental concern. Neutropenia was also observed in one infant during pneumonia treatment.\\n\\nStudy Design: Case series\\n\\nSample Size: 10 infants\\n\\nStudy Population: Infants between three and six months old with chronic, benign neutropenia\\n\\nRisk of Bias: The study design of a case series may introduce selection bias and does not allow for causal inference. Additionally, the small sample size limits the generalizability of the findings.'},\n",
       " {'title': 'Significance of the detection of antineutrophil antibodies in children with chronic neutropenia.',\n",
       "  'url': 'https://pubmed.ncbi.nlm.nih.gov/11964321/',\n",
       "  'abstract': 'We evaluated the clinical characteristics of 41 children with chronic neutropenia based on the quantitative analysis of antineutrophil antibodies in serum by flow cytometry. According to the strength of antineutrophil antibodies, the patients were divided into 3 groups: 12 patients presented negative antibodies, 13 patients showed weak positive antibodies, and 16 patients showed strong positive antibodies. No significant differences were seen in age of diagnosis, severity of neutropenia, and infectious complications associated with neutropenia among the 3 groups. The spontaneous resolution of neutropenia was observed in all patients with negative antibodies and in 22 of 29 patients with positive antibodies. The age of the recovery of neutropenia and the duration until spontaneous resolution of neutropenia were significantly dependent on the antibody strength at the time of diagnosis. These results demonstrate that the quantification of antineutrophil antibodies at the time of diagnosis may be useful in considering the clinical course of chronic neutropenia in childhood.',\n",
       "  'citation': 'Kobayashi M, Nakamura K, Kawaguchi H, Sato T, Kihara H, Hiraoka A, Tanihiro M, Taniguchi K, Takata N, Ueda K. Significance of the detection of antineutrophil antibodies in children with chronic neutropenia.. Blood. 2002;99(9):3468-71.',\n",
       "  'is_relevant': True,\n",
       "  'PMID': StringElement('11964321', attributes={'Version': '1'}),\n",
       "  'summary': 'Summary: The study evaluated 41 children with chronic neutropenia based on the quantitative analysis of antineutrophil antibodies in serum by flow cytometry. They found that the strength of antineutrophil antibodies at the time of diagnosis was associated with the age of recovery and duration until spontaneous resolution of neutropenia.\\n\\nStudy Design: Observational study\\n\\nSample Size: 41 children\\n\\nStudy Population: Children with chronic neutropenia\\n\\nRisk of Bias: The study may have selection bias as it only included children with chronic neutropenia. Additionally, there may be information bias as the study relied on the accuracy of antineutrophil antibody quantification by flow cytometry.'},\n",
       " {'title': 'Autoimmune neutropenia of infancy.',\n",
       "  'url': 'https://pubmed.ncbi.nlm.nih.gov/3534197/',\n",
       "  'abstract': 'Neutrophil antibodies were demonstrated in 119 of 121 infants and young children with chronic neutropenia, establishing the diagnosis of autoimmune neutropenia of infancy. The median age at diagnosis was 8 months (range 3 to 30 months), and the female/male ratio was 6:4. Autoimmune neutropenia of infancy was manifested by recurrent fever and infection. All patients had selective neutropenia (absolute neutrophil count 0 to 500), and many had monocytosis. Fifteen of 16 patients tested failed to respond to epinephrine and hydrocortisone stimulation. Bone marrow had myeloid hyperplasia and reduced mature neutrophils. Recovery occurred in all 81 patients who passed the age of 5 years, except for one patient who is recovering at 6 1/2 years. The median age at recovery was 30 months; 95% recovered before 4 years. The estimated median duration of disease was 20 months. Neutrophil antibodies were detected early in the neutropenic phase by a combination of immunofluorescence and agglutination tests. Ten percent of these antibodies had specificity for NA1 or NA2. Ten of the 12 serum samples with a strong reaction in the flow cytometer reacted only with neutrophils. Two also reacted with an unidentified subpopulation (30%) of lymphocytes. Lymphocyte subsets were normal in 10 patients investigated, and abnormal levels of circulating immune complexes were detected in sera from 11 of 25 (44%) patients tested. Temporary remission was induced in all of eight patients who received intravenous IgG therapy. Autoimmune neutropenia of infancy is probably the most common cause of chronic neutropenia in infancy and early childhood, can be diagnosed by immunologic techniques, and requires only conservative management; spontaneous cure appears to be the rule.',\n",
       "  'citation': 'Lalezari P, Khorshidi M, Petrosova M. Autoimmune neutropenia of infancy.. The Journal of pediatrics. 1986;109(5):764-9.',\n",
       "  'is_relevant': True,\n",
       "  'PMID': StringElement('3534197', attributes={'Version': '1'}),\n",
       "  'summary': 'Summary: Neutrophil antibodies were found in infants and young children with chronic neutropenia, establishing the diagnosis of autoimmune neutropenia of infancy. The condition presented with recurrent fever and infections, selective neutropenia, and myeloid hyperplasia in bone marrow. Recovery typically occurred by the age of 5, with a median duration of disease of 20 months. Neutrophil antibodies were detected early in the disease phase, with some showing specificity for certain antigens.\\n\\nStudy Design: Retrospective study\\nSample Size: 121 infants and young children\\nStudy Population: Infants and young children with chronic neutropenia\\nRisk of Bias: The study may have selection bias as it focused on infants and young children with chronic neutropenia, potentially excluding older individuals with the condition. Additionally, bias may exist in the antibody detection methods used in the study.'},\n",
       " {'title': 'Reduction of CFU-GM and circulating hematopoietic progenitors in a subgroup of children with chronic neutropenia associated with severe infections and delayed recovery.',\n",
       "  'url': 'https://pubmed.ncbi.nlm.nih.gov/30870474/',\n",
       "  'abstract': 'Myelopoiesis was evaluated in 66 pediatric patients with chronic neutropenia who were positive for anti-neutrophil antibodies (median age at diagnosis: 11 months, median neutrophil count at diagnosis: 419/μl). Other causes of neutropenia were excluded. Bone marrow morphology, clonogenic tests and/or the peripheral blood CD 34+ cell count, and apoptotic rate were evaluated in 61 patients with neutropenia lasting > 12 months or severe infections. The peripheral blood CD 34+ cell count and apoptotic rate were evaluated in five patients with shorter neutropenia. The median follow-up time was 29 months (range 7-180 months). Forty-seven patients (71.2%) had a spontaneous recovery after 7-180 months (median 29 months). The group of patients younger than 24 months at diagnosis (n = 50) had a higher probability of recovery (40/50 vs. 7/16 χ2 p<0.01) with a shorter period of neutropenia (median 26 versus 47 months, Kaplan-Meier analysis p = 0.001). The colony-forming units-granulocyte-macrophage (CFU-GM) were significantly decreased in 26/35 patients (74%) evaluated for clonogenic tests. All patients with normal CFU-GM recovered (9/9 patients); whereas, neutropenia persisted in 12/26 patients with reduced CFU-GM (46%, Pearson χ2 p = 0.02). In 36/55 (65%) patients evaluated by flow cytometry we observed reduced circulating CD34+ cells compared with controls of the same age. An increase in the circulating CD34+ cell apoptotic rate was observed in 28/55 patients (51%). Infections requiring hospitalization were observed in 9/18 (50%; Pearson χ2, p = 0.03) patients with both decreased circulating CD34+ cells and increased CD34+ apoptotic rates. In the group aged < 24 months, we observed a significant correlation between the persistence of neutropenia and decreased circulating CD34+ cells (Pearson χ2 p = 0.008). In conclusion, reduced CFU-GM and circulating hematopoietic progenitors were observed in a subgroup of children with chronic neutropenia who were positive for anti-neutrophil antibodies and had a higher incidence of severe infections and delayed spontaneous remission.',\n",
       "  'citation': 'Bux J, Behrens G, Jaeger G, Welte K. Diagnosis and clinical course of autoimmune neutropenia in infancy: analysis of 240 cases. Blood. 1998; 91: 181–186.',\n",
       "  'is_relevant': True,\n",
       "  'PMID': StringElement('30870474', attributes={'Version': '1'}),\n",
       "  'summary': 'Summary: The study evaluated myelopoiesis in 66 pediatric patients with chronic neutropenia positive for anti-neutrophil antibodies. They found that reduced colony-forming units-granulocyte-macrophage (CFU-GM) and circulating hematopoietic progenitors were associated with a higher incidence of severe infections and delayed spontaneous remission in a subgroup of children with chronic neutropenia.\\n\\nStudy Design: This study utilized a retrospective observational design.\\n\\nSample Size: The study included 66 pediatric patients with chronic neutropenia.\\n\\nStudy Population: The study population consisted of pediatric patients with chronic neutropenia who were positive for anti-neutrophil antibodies.\\n\\nRisk of Bias: The study may have some risk of bias due to its retrospective design and potential selection bias in the patient population. Additionally, the study may have confounding factors that were not fully accounted for in the analysis.'},\n",
       " {'title': 'Primary autoimmune neutropenia in adults: case report and review of the literature.',\n",
       "  'url': 'https://pubmed.ncbi.nlm.nih.gov/24827415/',\n",
       "  'abstract': 'BACKGROUND:\\nPrimary autoimmune neutropenia (AIN) is a rare and often unrecognized disorder in adults.\\n\\nSTUDY DESIGN AND METHODS:\\nWe report the case of a patient referred to our institution for weight loss and severe chronic neutropenia with a negative personal history for severe recurrent infections.\\n\\nRESULTS:\\nThe patient was diagnosed with a lung infiltrate, and a bronchoalveolar lavage was positive for Pseudomonas aeruginosa. Antibiotic therapy was performed with resolution of infection, but persistence of neutropenia. Several investigations excluded the most common causes of neutropenia and a marrow trephine showed a maturation arrest of the myeloid lineage. Treatment with granulocyte-colony-stimulating factor (G-CSF) caused a transient increase in neutrophil counts. Based on the mild clinical history and the short-lived increase in neutrophil count after G-CSF, primary AIN was suspected. Intravenous immunoglobulins induced a short-lived increase in neutrophil count; primary AIN was confirmed about 5 months after discharge by direct and indirect granulocyte immunofluorescence tests. The patient was discharged and no further therapy was required for persistent severe neutropenia in the absence of recurrent infections.\\n\\nCONCLUSION:\\nPrimary AIN should be considered early in the diagnostic process of isolated neutropenia, to avoid expensive and time-consuming unnecessary diagnostic procedures.',\n",
       "  'citation': 'Mariotti J, Caberlon S, Bertinato E, Podda G, Pugliano MT, Cattaneo M. Primary autoimmune neutropenia in adults: case report and review of the literature.. Transfusion. 2013;54(11):2906-10.',\n",
       "  'is_relevant': True,\n",
       "  'PMID': StringElement('24827415', attributes={'Version': '1'}),\n",
       "  'summary': \"Summary: The article presents a case study of a patient with chronic neutropenia, ultimately diagnosed with primary autoimmune neutropenia (AIN). The patient's history, clinical presentation, diagnostic workup, and response to treatment are detailed, highlighting the importance of considering primary AIN in cases of isolated neutropenia.\\n\\nStudy Design: Case report\\n\\nSample Size: 1 patient\\n\\nStudy Population: The study focused on a single patient presenting with chronic neutropenia and a negative history of severe recurrent infections.\\n\\nRisk of Bias: The study design of a case report limits generalizability and may be subject to bias such as selection bias and confounding factors. Additionally, the reliance on a single case may not fully represent the broader population with chronic neutropenia.\"},\n",
       " {'title': 'An update on the diagnosis and treatment of chronic idiopathic neutropenia.',\n",
       "  'url': 'https://pubmed.ncbi.nlm.nih.gov/27841775/',\n",
       "  'abstract': 'PURPOSE OF REVIEW:\\nNeutropenia lasting for at least for 3 months and not attributable to drugs or a specific genetic, infectious, inflammatory, autoimmune or malignant cause is called chronic idiopathic neutropenia (CIN). CIN and autoimmune neutropenia (AIN) are very similar and overlapping conditions. The clinical consequences depend upon the severity of neutropenia, but it is not considered a premalignant condition.\\n\\nRECENT FINDINGS:\\nLong-term observational studies in children indicate that the disease often lasts for 3-5 years in children, then spontaneously remits, but it rarely remits in adult cases. The value of antineutrophil antibody testing in both children and adults is uncertain. Most recent data suggest that CIN and AIN are immune-mediated diseases, but there are no new clinical or genetic tests to aid in diagnosis. Treatment with granulocyte colony stimulating factor (G-CSF) is effective to increase blood neutrophils in almost all cases; this treatment is reserved, however, for patients with both neutropenia and evidence of recurrent fevers, inflammatory symptoms and infections. There is little or no evidence to indicate that G-CSF treatment predisposes to myeloid malignancies in this population.\\n\\nSUMMARY:\\nIt is important to recognize CIN and AIN, the most common causes of chronic neutropenia in both children and adults. If the neutropenia is not severe, that is more than 0.5\\u200a×\\u200a10/l, most patients can be observed and not treated prophylactically with antibiotics or a growth factor. When neutropenia is severe, treatment with G-CSF is often beneficial.',\n",
       "  'citation': 'Dale DC, Welte K. Neutropenia and Neutrophilia. In: Kaushansky K, Lichtman MA, Prchal JT, et al., editors. Williams Hematology. 9th. New York, NY: McGraw-Hill; 2016. pp. 991–1004. A current textbook review.',\n",
       "  'is_relevant': True,\n",
       "  'PMID': StringElement('27841775', attributes={'Version': '1'}),\n",
       "  'summary': \"Summary: Chronic idiopathic neutropenia (CIN) and autoimmune neutropenia (AIN) are similar conditions characterized by neutropenia lasting at least 3 months without a specific cause. Long-term studies show that CIN often remits in children but rarely in adults. Antineutrophil antibody testing's value is uncertain, and there are no new diagnostic tests. Treatment with granulocyte colony-stimulating factor (G-CSF) is effective in increasing neutrophil counts, especially in patients with recurrent fevers and infections.\\n\\nStudy Design: This article appears to be a narrative review summarizing recent findings on chronic neutropenia, including observational studies and treatment outcomes.\\n\\nSample Size: The study size is not specified as the article is a review of existing evidence rather than a primary research study.\\n\\nStudy Population: The study population includes patients with chronic idiopathic neutropenia (CIN) and autoimmune neutropenia (AIN), with a focus on both children and adults.\\n\\nRisk of Bias: The risk of bias in this review article is low as it summarizes existing evidence and findings from observational studies. However, the lack of specific study design details or sample size may limit the generalizability of the conclusions.\"},\n",
       " {'title': 'Physician Education: Myelodysplastic Syndrome.',\n",
       "  'url': 'https://pubmed.ncbi.nlm.nih.gov/10388004/',\n",
       "  'abstract': 'CHARACTERISTICS AND PATHOLOGY OF MYELODYSPLASTIC SYNROME: Myelodysplastic syndrome (MDS) is a disease of the blood whose etiology is unclear. There is little that can be done therapeutically, and the prognosis for patients with this disease is poor. The main hematologic finding is anemia, but MDS responds poorly to the various kinds of drugs used to treat anemia, and in the past it was called refractory anemia. Moreover, 25% to 40% of MDS patients develop acute leukemia, so MDS has also been referred to as preleukemia or a preleukemic condition. When blood diseases are classified as either erythrocytic or leukocytic, it is often unclear into which category MDS falls. Although MDS sometimes occurs in young adults and children, it most often appears in older patients. Diagnosis is confirmed in laboratory tests by a reduction in peripheral blood cells, an abundance of cells in the bone marrow (cellular marrow), abnormal cellular morphology, and chromosomal abnormalities. In primary cases there is no history of underlying disease or administration of drugs that is toxic to the marrow. The course of the disease is chronic but irreversible, and in a high percentage of cases it either develops into acute leukemia or the patient succumbs to infection or hemorrhage (death due to bone marrow failure). In general, all blood cells arise from a single type of pluripotent hematopoietic stem cell in the marrow. In MDS, the hematopoietic stem cells acquire mutations and cannot produce sufficient numbers of mature blood cells (Fig. 1). In aplastic anemia the hematopoietic stem cells are also abnormal, and blood cell production in the marrow generally declines. In MDS, however, there are sufficient numbers of blood cells of each lineage along the path from hematopoietic stem cell to mature blood cell, but the cells do not completely mature and differentiate. Because of this deficiency in the differentiation process, the cells die in the marrow without maturing and differentiating (ineffective hematopoiesis). Furthermore, blood cells that escape death in the bone marrow and are released into the peripheral blood have both morphological and functional abnormalities compared with normal blood cells. In other words, MDS is an abnormality at the hematopoietic stem cell level, and it is characterized by the presence of clonal blood cells that are abnormal both in quality (morphology, function, differentiation) and quantity (cytopenia) [1]. Because these abnormalities are found in multiple blood cell lineages, they are believed to be clonal abnormalities that originate in the pluripotent hematopoietic stem cells. The reason why the stem cells become abnormal is still unclear. However, MDS can arise following treatment with antineoplastic agents such as alkylating agents or radiation treatments (therapy-related MDS), and it has been proposed that MDS is caused by cumulative DNA damage in stem cells from mutagenic substances such as antitumor drugs [2]. DIAGNOSIS AND DIFFERENTIAL DIAGNOSIS: Screening for MDS should begin with the fact that there is chronic, progressive cytopenia, the marrow is normal or hyperplastic, and there is no underlying disease (such as disseminated intravascular coagulation [DIC], portal hypertension, collagen disorder, etc.) that could otherwise cause these conditions (Table 1). MDS is most likely to occur in middle-aged and elderly patients, but because it can also occur in the young, age is not a determining factor for diagnosis. Diagnosis is verified by ineffective hematopoiesis and blood cells with morphological abnormalities in the marrow and peripheral blood. Although there are, for example, ferrokinetic studies for erythroid cells, etc., it is impossible to make an accurate evaluation of ineffective hematopoiesis based only on abnormal laboratory test results. Therefore, if chronic cytopenia and cellular marrow are both present, then abnormal morphology of blood cells becomes the deciding factor in diagnosis. Typical morphological abnormalities in MDS include megaloblasts (photo 1), dissociated maturation of the nucleus and cytoplasm (photo 2), abnormal multinucleated erythroblasts with three or more nuclei (photo 1), and ringed sideroblasts (photo 3) in the erythrocytic lineage; hypersegmented (photo 4) or hyposegmented neutrophils (pseudo Pelger-Huët nuclear anomaly, photo 5), reduced or missing granules (photos 4 and 5), and peroxidase-negative neutrophils in the granulocytic lineage; and micromegakaryocytes (photo 6), megakaryocytes with multiple, isolated disc-shaped nuclei (photo 7) and giant platelets (photo 8) in the megakaryocytic lineage. However, these morphological abnormalities are not specific to MDS, and they are also seen in pernicious anemia, acute myelocytic leukemia, etc. Therefore, a diagnosis of MDS must exclude these other diseases with which we are already familiar. Once MDS is confirmed, then the type of MDS is determined in accordance with FAB classification [1] (Fig. 2). Differential diagnosis applies to all cases presenting with cytopenia. Various types of anemia such as aplastic anemia, hemolytic anemia, secondary anemia, etc., blood disorders such as idiopathic thrombocytopenic purpura, chronic neutropenia, etc., as well as collagen diseases, portal hypertension, DIC, etc., can all be differentiated from MDS based on their characteristic symptoms and laboratory test results. However, atypical forms of MDS [3, 4] also occur, such as hypoplastic marrow MDS, MDS with minimal dysplasia, amegakaryocytic MDS, etc. Meticulous microscopic examination of blood cell morphology and careful observation of the clinical course are essential, in addition to bone marrow biopsy, chromosomal studies of marrow cells, blood cell clonality analysis, etc. RECENT DEVELOPMENTS: APOPTOSIS: One biological characteristic of MDS is the presence of blood cells of abnormal clones derived from abnormal hematopoietic stem cells. These abnormal clones demonstrate ineffective hematopoiesis, which is reflected in the contradictory phenomena of normal or hyperplastic bone marrow concurrent with cytopenia in the peripheral blood. This is a result of premature cell death in the bone marrow that accompanies the abnormal blood cell differentiation found in MDS. Therefore, it has been proposed that it is very likely this early cell death takes the form of apoptosis, and, little by little, experimental results supporting this view have been published [5-7]. The development of MDS into acute leukemia is thought to be due to the survival of immature cells (blast cells) that have escaped apoptosis and have acquired the ability to proliferate [6]. Antileukemic drugs act by inducing apoptosis in leukocytes, and it is likely that acute leukemia from MDS is intractable because it has managed to bypass the mechanism of apoptosis. Research is now focused on the detection of excessive apoptosis in vivo in MDS patients and the relationship between apoptosis and the development of MDS. ORIGIN OF BLOOD CELL CLONING: Chromosomal analysis of bone marrow cells is effective as an everyday laboratory test to verify clonality, but it lacks sensitivity. The FISH method is useful for determining clonality at the level of individual blood cells, but cannot be used in patients with no chromosomal abnormalities. DNA polymorphism of enzymes mapped on the X chromosome can only be used in females, but interesting research is being conducted on the clonality of lymphocytes and the possible survival of normal hematopoietic clones. ONSET AND PROGRESSION: Unstable clones with functional deficiencies are produced by abnormal stem cells. From the standpoint of chromosomal research, it is believed that MDS occurs not from a single type of stem cell damage, but from an accumulation of multiple and random stem cell damage. MDS is a prime candidate for research on the onset of human leukemia, and when we combine what we know about MDS with its development into leukemia, we can understand the development of MDS from the standpoint of apoptosis, genetic abnormalities, chromosomal abnormalities and progression of cloning. RISK FACTORS: Many risk factors for MDS have been proposed, and it has been confirmed internationally that the four major risk factors are the blast cell ratio in the bone marrow, advanced age, chromosomal abnormalities, and thrombocytopenia.',\n",
       "  'citation': 'Yoshida Y. Physician Education: Myelodysplastic Syndrome.. The oncologist. 1996;1(4):284-287.',\n",
       "  'is_relevant': True,\n",
       "  'PMID': StringElement('10388004', attributes={'Version': '1'}),\n",
       "  'summary': 'Summary: The article provides information on the characteristics and pathology of Myelodysplastic Syndrome (MDS), including its diagnosis and differential diagnosis. It discusses the importance of chronic, progressive cytopenia, abnormal marrow findings, and morphological abnormalities in blood cells for diagnosing MDS. The study also touches on recent developments in understanding apoptosis in MDS and the origin of blood cell cloning. Risk factors for MDS are also highlighted.\\n\\nStudy Design: This article appears to be a narrative review summarizing the current understanding of MDS, its diagnosis, recent developments in research, and risk factors. It does not present original research findings but rather synthesizes existing knowledge in the field.\\n\\nSample Size: Not applicable as this is a narrative review and does not involve a specific study with a sample size.\\n\\nStudy Population: The article discusses MDS as a disease that primarily affects middle-aged and elderly patients but can also occur in younger individuals. It covers characteristics of MDS in terms of hematologic findings, cellular morphology, and chromosomal abnormalities.\\n\\nRisk of Bias: Since this article is a narrative review, the risk of bias is related to the interpretation and selection of studies included in the review. It is important to consider the credibility and quality of the sources cited to assess the overall reliability of the information presented.'},\n",
       " {'title': 'Chronic neutropenia: diagnostic approach and prognosis.',\n",
       "  'url': 'https://pubmed.ncbi.nlm.nih.gov/6602565/',\n",
       "  'abstract': \"Chronic neutropenia is a term used to describe a group of disorders characterized by a persistent neutrophil count of less than 1500 cells/microliters. We studied seven children and three sets of parents. We separated patients into a group with good prognosis and a group at higher risk of infection by using a combination of tests, including bone marrow aspiration and biopsy, steroid stimulation of bone marrow reserve, and in vitro CFU-GM and CSA assays. Children with a normal number of myeloid elements in their bone marrow and a normal bone marrow response to steroid stimulation had a benign course. CFU-GM and CSA assays helped to classify these children's neutropenia when their bone marrow had decreased numbers of myeloid elements. Family studies in three children were consistent with an inherited neutropenia, even when their parents were hematologically normal.\",\n",
       "  'citation': 'de Alarcon PA, Goldberg J, Nelson DA, Stockman JA. Chronic neutropenia: diagnostic approach and prognosis.. The American journal of pediatric hematology/oncology. 1983;5(1):3-9.',\n",
       "  'is_relevant': True,\n",
       "  'PMID': StringElement('6602565', attributes={'Version': '1'}),\n",
       "  'summary': 'Summary: The study investigated Chronic Neutropenia in seven children and three sets of parents, categorizing patients into groups based on prognosis using various tests including bone marrow aspiration and biopsy, steroid stimulation of bone marrow reserve, and CFU-GM and CSA assays. The study found that children with normal myeloid elements in the bone marrow and a normal response to steroid stimulation had a benign course, while CFU-GM and CSA assays helped classify neutropenia in cases with decreased myeloid elements. Family studies suggested inherited neutropenia in some cases.\\n\\nStudy Design: Observational study\\nSample Size: 7 children and 3 sets of parents\\nStudy Population: Children with Chronic Neutropenia and their parents\\nRisk of Bias: The study may have inherent bias due to its small sample size and potential selection bias in choosing patients with Chronic Neutropenia.'}]"
      ]
     },
     "execution_count": 9,
     "metadata": {},
     "output_type": "execute_result"
    }
   ],
   "source": [
    "# Summaries for relevant articles\n",
    "article_summaries"
   ]
  },
  {
   "cell_type": "code",
   "execution_count": 10,
   "metadata": {},
   "outputs": [
    {
     "data": {
      "text/plain": [
       "[{'title': 'Invasive aspergillosis and endocarditis.',\n",
       "  'url': 'https://pubmed.ncbi.nlm.nih.gov/34303547/',\n",
       "  'abstract': 'INTRODUCTION:\\nAspergillusfumigatus can cause a systemic infection called invasive aspergillosis causing pulmonary and extra-pulmonary damage. Aspergillus endocarditis (AE) is a relatively rare disease but can be life-threatening.\\n\\nCASE REPORTS:\\nWe report here on five cases of endocarditis due to invasive aspergillosis: a 58-year-old man receiving immunosuppressive medication following a kidney graft, a 58-year-old man undergoing chemotherapy for chronic lymphocytic leukaemia, a 55-year-old man receiving corticosteroids for IgA vasculitis, a 52-year-old HIV-infected woman under no specific treatment and a 17-year-old boy under immunosuppressive therapy for auto-immune chronic neutropenia.\\n\\nDISCUSSION:\\nAspergillus accounts for 25-30% of fungal endocarditis and 0.25% to 8.5% of all cases of infectious endocarditis. Aspergillus endocarditis results from invasion of the lung arterioles by hyphae and blood dissemination. It is associated with a very high mortality rate (42-68%). Diagnosing Aspergillus endocarditis is mainly problematic because blood cultures are almost always negative, and fever may be absent. Immunosuppression, haematological malignancies, recent cardiothoracic surgery, negative blood cultures with endocarditis and/or systemic or pulmonary emboli are predictors of AE. In the setting of endocarditis, some clinical characteristics may raise early suspicions of aspergillosis rather than a non-fungal agent: no fever, vegetations affecting the mitral valve, non-valve or aortotomy sites, aortic abscess or pseudo-aneurysm. The identification of invasive aspergillosis is based on a chest CT scan, microscopy/culture or other serological and molecular tests. The treatment of Aspergillus endocarditis requires triazole antifungal drugs, and frequently additional surgical debridement.\\n\\nCONCLUSION:\\nAspergillus endocarditis is rare but is associated with a very high mortality rate. Knowledge of its predictive factors and key clinical features can help to differentiate aspergillosis from non-fungal endocarditis and may enable improved survival rates.',\n",
       "  'citation': 'Chevalier K, Barde F, Benhamida S, Le Meur M, Thyrault M, Bentoumi Y, Lau N, Lebut J. Invasive aspergillosis and endocarditis.. La Revue de medecine interne. 2021;42(10):678-685.',\n",
       "  'is_relevant': False,\n",
       "  'PMID': StringElement('34303547', attributes={'Version': '1'})}]"
      ]
     },
     "execution_count": 10,
     "metadata": {},
     "output_type": "execute_result"
    }
   ],
   "source": [
    "# Articles deemed irelevant\n",
    "irrelevant_articles"
   ]
  },
  {
   "cell_type": "code",
   "execution_count": 11,
   "metadata": {},
   "outputs": [
    {
     "name": "stdout",
     "output_type": "stream",
     "text": [
      "synthesis\n",
      "Literature Summary: Chronic neutropenia presents a diagnostic challenge, with studies highlighting various aspects of the condition. Retrospective analysis of 240 pediatric cases with chronic neutropenia positive for anti-neutrophil antibodies found that reduced colony-forming units-granulocyte-macrophage (CFU-GM) and hematopoietic progenitors were associated with severe infections and delayed remission. Another study of 41 children emphasized the association between antineutrophil antibody strength at diagnosis and the age of recovery. Autoimmune neutropenia of infancy was characterized by neutrophil antibodies, selective neutropenia, and myeloid hyperplasia, with recovery typically by age 5. A case series of infants with benign neutropenia highlighted various clinical presentations and the need for evaluation. While antineutrophil antibody testing is uncertain in chronic idiopathic neutropenia, treatment with granulocyte colony-stimulating factor (G-CSF) can effectively increase neutrophil counts, especially in patients with recurrent infections.\n",
      "\n",
      "TL;DR: Diagnosis of Chronic Neutropenia may involve evaluating antineutrophil antibodies, colony-forming units, and hematopoietic progenitors, with treatment options like G-CSF potentially beneficial. \n",
      "\n",
      "References:\n",
      "1. Bux J, Behrens G, Jaeger G, Welte K. Diagnosis and clinical course of autoimmune neutropenia in infancy: analysis of 240 cases. Blood. 1998; 91: 181–186.\n",
      "2. Kobayashi M, Nakamura K, Kawaguchi H, Sato T, Kihara H, Hiraoka A, Tanihiro M, Taniguchi K, Takata N, Ueda K. Significance of the detection of antineutrophil antibodies in children with chronic neutropenia. Blood. 2002;99(9):3468-71.\n",
      "3. Lalezari P, Khorshidi M, Petrosova M. Autoimmune neutropenia of infancy. The Journal of pediatrics. 1986;109(5):764-9.\n",
      "4. Kaczorowska-Hać B, Wierzba J, Stefanowicz J, Sielachowicz K, Wlazłowski M, Balcerska A. Neutropenia in infancy - sometimes chronic and benign - own experiences. Medycyna wieku rozwojowego. 2009;12(3):767-70.\n",
      "5. Dale DC, Welte K. Neutropenia and Neutrophilia. In: Kaushansky K, Lichtman MA, Prchal JT, et al., editors. Williams Hematology. 9th. New York, NY: McGraw-Hill; 2016. pp. 991–1004.\n"
     ]
    }
   ],
   "source": [
    "# STEP 4 do a synthesis of all summaries to answer question: \n",
    "synthesis =   nrpm.synthesize_all_articles(article_summaries, QUESTION)\n",
    "print(\"synthesis\")\n",
    "print(synthesis)"
   ]
  },
  {
   "cell_type": "markdown",
   "metadata": {},
   "source": [
    "# Great! We answered our first question using Clinfo.AI!\n",
    "## Here are all the steps condensed:"
   ]
  },
  {
   "cell_type": "code",
   "execution_count": 13,
   "metadata": {},
   "outputs": [
    {
     "name": "stdout",
     "output_type": "stream",
     "text": [
      "\n",
      "Task Name: pubmed_query_prompt\n",
      "------------------------------------------------------------------------\n",
      "\n",
      "Task Name: relevance_prompt\n",
      "------------------------------------------------------------------------\n",
      "\n",
      "Task Name: summarization_prompt\n",
      "------------------------------------------------------------------------\n",
      "\n",
      "Task Name: synthesize_prompt\n",
      "------------------------------------------------------------------------\n",
      "Result:\n",
      "Literature Summary: The prevalence of COVID-19 in the United States has been reported in various studies. A cross-sectional nationwide survey involving 5,203 adults in the US found a prevalence of 1.7% [1]. Another study assessing COVID-19 testing and incidence among 6,342,455 veterans who utilized VA services reported a 20.4% positivity rate within this population [5]. Additionally, a modeling study across all 50 US states and the District of Columbia estimated the infection fatality ratio to be approximately 0.6-0.7% [3]. These findings suggest variations in COVID-19 prevalence based on the populations studied and the methodologies employed.\n",
      "\n",
      "TL;DR: The prevalence of COVID-19 in the United States varies across different populations, with estimates ranging from 1.7% to 20.4% based on the studies reviewed.\n",
      "\n",
      "References:\n",
      "1. Centers for Disease Control and Prevention. Coronavirus Disease 2019 (COVID-19). Cases in the U.S. New Cases by Day.\n",
      "2. Richard DM, Gazmararian JA, Greenhouse A, Khakharia A, Phillips LS, Waller LA. Space-time clustering of COVID-19 cases in the United States veteran population. Annals of epidemiology. 2023;87():9-16.\n",
      "3. Caroline K., Samantha K., Jason S.B. UPDATED: Timeline of the Coronavirus. \n",
      "\n"
     ]
    }
   ],
   "source": [
    "PROMPS_PATH  = os.path.join(\"..\",\"src\",\"clinfoai\",\"prompts\",\"PubMed\",\"Architecture_1\",\"master.json\")\n",
    "MODEL:str    = \"gpt-3.5-turbo\"\n",
    "# MODEL:str    = \"Qwen/Qwen2-beta-7B-Chat\"\n",
    "\n",
    "nrpm = PubMedNeuralRetriever(\n",
    "    architecture_path = PROMPS_PATH,\n",
    "    model             = MODEL,\n",
    "    verbose           = False,\n",
    "    debug             = False,\n",
    "    open_ai_key       = OPENAI_API_KEY,\n",
    "    email             = EMAIL)\n",
    "\n",
    "### STEP 0: Ask a question ###\n",
    "question    = \"What is the prevalence of COVID-19 in the United States?\"\n",
    "\n",
    "### STEP 1: Search PubMed ###\n",
    "pubmed_queries, article_ids = nrpm.search_pubmed(question,num_results=10,num_query_attempts=1)\n",
    "\n",
    "### STEP 2: Fetch article data ###\n",
    "articles = nrpm.fetch_article_data(article_ids)\n",
    "\n",
    "### STEP 3 Summarize each article (only if they are relevant [Step 3]) ###\n",
    "article_summaries,irrelevant_articles =  nrpm.summarize_each_article(articles, question)\n",
    "\n",
    "\n",
    "### STEP 4: Synthesize the results ###\n",
    "synthesis =   nrpm.synthesize_all_articles(article_summaries, question)\n",
    "print(\"Result:\")\n",
    "print(synthesis)"
   ]
  },
  {
   "cell_type": "code",
   "execution_count": null,
   "metadata": {},
   "outputs": [],
   "source": []
  }
 ],
 "metadata": {
  "kernelspec": {
   "display_name": "Python 3 (ipykernel)",
   "language": "python",
   "name": "python3"
  },
  "language_info": {
   "codemirror_mode": {
    "name": "ipython",
    "version": 3
   },
   "file_extension": ".py",
   "mimetype": "text/x-python",
   "name": "python",
   "nbconvert_exporter": "python",
   "pygments_lexer": "ipython3",
   "version": "3.12.4"
  }
 },
 "nbformat": 4,
 "nbformat_minor": 4
}
