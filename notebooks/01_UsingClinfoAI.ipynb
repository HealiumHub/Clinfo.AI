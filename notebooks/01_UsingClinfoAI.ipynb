{
 "cells": [
  {
   "cell_type": "code",
   "execution_count": 1,
   "metadata": {},
   "outputs": [
    {
     "name": "stderr",
     "output_type": "stream",
     "text": [
      "/pasteur/u/ale9806/miniconda3/envs/clinfo/lib/python3.9/site-packages/transformers/utils/hub.py:124: FutureWarning: Using `TRANSFORMERS_CACHE` is deprecated and will be removed in v5 of Transformers. Use `HF_HOME` instead.\n",
      "  warnings.warn(\n"
     ]
    }
   ],
   "source": [
    "import sys\n",
    "import os\n",
    "from  pathlib import  Path\n",
    "sys.path.append(str(Path.cwd().parent))\n",
    "from  config import OPENAI_API_KEY,NCBI_API_KEY,EMAIL\n",
    "from  src.clinfoai.pubmed_engine import PubMedNeuralRetriever"
   ]
  },
  {
   "cell_type": "markdown",
   "metadata": {},
   "source": [
    "# Using Clinfo.AI \n",
    "\n",
    "In this tutorial, we will go through each step of the Clinfo.AI workflow. Before we start, we need to set up a few things. \n",
    "\n",
    "\n",
    "### 1.- Setting up enviorment:\n",
    "1.a.- Install the conda enviroment using the yml file provided.\n",
    "\n",
    "``` conda env create -f environment.yaml ```\n",
    "\n",
    "1.b.- Select your environment to run notebook. I recommend using VScode: \n",
    "\n",
    "\n",
    "\n",
    "### 2.- Creating Accounts\n",
    "\n",
    "You will need at least one account and at most two (depending on how many calls/hour you plan to do):\n",
    "* OPENAI account: If you start a free account for the first time, you will get $5 in API credits.\n",
    "* NCBI_API_KEY: This is only necessary if you plan to make more than 10 calls per hour.\n",
    "\n",
    "\n",
    "Once you have created both accounts  go to **src\\config.py** file and: \n",
    "\n",
    "* Set OPENAI_API_KEY to your openAI API key\n",
    "\n",
    "If you created an NCBI API account add your key and email in the following values: \n",
    "* NCBI_API_KEY \n",
    "* EMAIL\n",
    "* \n",
    "Otherwise, leave them as None"
   ]
  },
  {
   "cell_type": "code",
   "execution_count": 2,
   "metadata": {},
   "outputs": [],
   "source": [
    "# Make Sure you followed at least step 1-2 before running this cell.\n",
    "from  config import OPENAI_API_KEY, NCBI_API_KEY, EMAIL\n",
    "os.environ[\"OPENAI_API_KEY\"] = OPENAI_API_KEY\n"
   ]
  },
  {
   "cell_type": "markdown",
   "metadata": {},
   "source": [
    "### 3.- Defining your own promts:\n",
    "We have designed prompts for each step of Clinfo.ai Workflow, leaveriging the power of in-contex-learning. If you want to us your own promps you can edit them **src\\prompts** otherwise we will use the default prompts:"
   ]
  },
  {
   "cell_type": "code",
   "execution_count": 3,
   "metadata": {},
   "outputs": [],
   "source": [
    "PROMPS_PATH = os.path.join(\"..\",\"src\",\"clinfoai\",\"prompts\",\"PubMed\",\"Architecture_1\",\"master.json\")"
   ]
  },
  {
   "cell_type": "markdown",
   "metadata": {},
   "source": [
    "### 4.- Define Clinfo.AI LLM Backbone\n",
    "Clinfo uses a chain of LLMs to summarize information, thus we need to define an LLM backbone. \n",
    "\n",
    "We will start with OpenAI models, however, if you have access to GPUs it is possible to use Clinfo.AI with vLLM to use OpenSource LLMs as backbones (check tutorial 3)."
   ]
  },
  {
   "cell_type": "code",
   "execution_count": 4,
   "metadata": {},
   "outputs": [],
   "source": [
    "MODEL:str  = \"gpt-3.5-turbo\"\n",
    "#MODEL:str = \"Qwen/Qwen2-beta-7B-Chat\""
   ]
  },
  {
   "cell_type": "markdown",
   "metadata": {},
   "source": [
    "### 5.- Init Clinfo+Pubmed Engnie\n",
    "We have all the necessary data to start our clinfo+pubmed instance:"
   ]
  },
  {
   "cell_type": "code",
   "execution_count": 5,
   "metadata": {},
   "outputs": [
    {
     "name": "stdout",
     "output_type": "stream",
     "text": [
      "\n",
      "Task Name: pubmed_query_prompt\n",
      "------------------------------------------------------------------------\n",
      "\n",
      "Task Name: relevance_prompt\n",
      "------------------------------------------------------------------------\n",
      "\n",
      "Task Name: summarization_prompt\n",
      "------------------------------------------------------------------------\n",
      "\n",
      "Task Name: synthesize_prompt\n",
      "------------------------------------------------------------------------\n"
     ]
    }
   ],
   "source": [
    "## 5.- Init Neural Retriever from path. \n",
    "# Do not change the path if you want to use base  prompts, otherwise specify your own prompt architecture\n",
    "\n",
    "nrpm = PubMedNeuralRetriever(\n",
    "    architecture_path = PROMPS_PATH,\n",
    "    model             = MODEL,\n",
    "    verbose           = False,\n",
    "    debug             = False,\n",
    "    open_ai_key       = OPENAI_API_KEY,\n",
    "    email             = EMAIL)"
   ]
  },
  {
   "cell_type": "markdown",
   "metadata": {},
   "source": [
    "# Let's start!"
   ]
  },
  {
   "cell_type": "code",
   "execution_count": 16,
   "metadata": {},
   "outputs": [
    {
     "name": "stdout",
     "output_type": "stream",
     "text": [
      "Articles retrived: 10\n",
      "['(\"Chronic Neutropenia\" AND \"diagnosis\" AND \"tests\")']\n",
      "['27841775', '30870474', '6602565', '34303547', '10388004', '19305028', '11964321', '3534197', '20301576', '24827415']\n"
     ]
    }
   ],
   "source": [
    "### Step 0 : Ask a question ###\n",
    "QUESTION    = \"What is the prevalence of COVID-19 in the United States?\"\n",
    "QUESTION    = \"What tests are needed to diagnose Chronic Neutropenia?\"\n",
    "\n",
    "\n",
    "## STEP 1 (Search PubMed): Convert the question into a query using an LLM\n",
    "# This returns a list of queries (containing MESH terms)\n",
    "# These queries are used to retrieve articles from NCBI\n",
    "# Once retrieved we collect a list article ids.\n",
    "pubmed_queries, article_ids = nrpm.search_pubmed(\n",
    "    question=QUESTION,\n",
    "    num_results=10,\n",
    "    num_query_attempts=1)\n",
    "\n",
    "print(f\"Articles retrived: {len(article_ids)}\")\n",
    "print(pubmed_queries)\n",
    "print(article_ids)"
   ]
  },
  {
   "cell_type": "code",
   "execution_count": 17,
   "metadata": {},
   "outputs": [
    {
     "name": "stdout",
     "output_type": "stream",
     "text": [
      "Article 1:\n",
      "\n",
      "['Myelopoiesis was evaluated in 66 pediatric patients with chronic neutropenia who were positive for anti-neutrophil antibodies (median age at diagnosis: 11 months, median neutrophil count at diagnosis: 419/μl). Other causes of neutropenia were excluded. Bone marrow morphology, clonogenic tests and/or the peripheral blood CD 34+ cell count, and apoptotic rate were evaluated in 61 patients with neutropenia lasting > 12 months or severe infections. The peripheral blood CD 34+ cell count and apoptotic rate were evaluated in five patients with shorter neutropenia. The median follow-up time was 29 months (range 7-180 months). Forty-seven patients (71.2%) had a spontaneous recovery after 7-180 months (median 29 months). The group of patients younger than 24 months at diagnosis (n = 50) had a higher probability of recovery (40/50 vs. 7/16 χ2 p<0.01) with a shorter period of neutropenia (median 26 versus 47 months, Kaplan-Meier analysis p = 0.001). The colony-forming units-granulocyte-macrophage (CFU-GM) were significantly decreased in 26/35 patients (74%) evaluated for clonogenic tests. All patients with normal CFU-GM recovered (9/9 patients); whereas, neutropenia persisted in 12/26 patients with reduced CFU-GM (46%, Pearson χ2 p = 0.02). In 36/55 (65%) patients evaluated by flow cytometry we observed reduced circulating CD34+ cells compared with controls of the same age. An increase in the circulating CD34+ cell apoptotic rate was observed in 28/55 patients (51%). Infections requiring hospitalization were observed in 9/18 (50%; Pearson χ2, p = 0.03) patients with both decreased circulating CD34+ cells and increased CD34+ apoptotic rates. In the group aged < 24 months, we observed a significant correlation between the persistence of neutropenia and decreased circulating CD34+ cells (Pearson χ2 p = 0.008). In conclusion, reduced CFU-GM and circulating hematopoietic progenitors were observed in a subgroup of children with chronic neutropenia who were positive for anti-neutrophil antibodies and had a higher incidence of severe infections and delayed spontaneous remission.']\n"
     ]
    }
   ],
   "source": [
    "## Step 2: Fetch article data\n",
    "# Preiously, we only extracted he PMIDs. No we will use those  PMIDs to retrive the metadata:\n",
    "articles = nrpm.fetch_article_data(article_ids)\n",
    "\n",
    "# Print example for first article: \n",
    "article_num = 1\n",
    "print(f\"Article {article_num}:\\n\")\n",
    "\n",
    "#print(articles[article_num].keys())\n",
    "#print(articles[article_num]['PubmedData'])\n",
    "print(articles[article_num][\"MedlineCitation\"][\"Article\"][\"Abstract\"][\"AbstractText\"])\n",
    "#print(articles[article_num][\"MedlineCitation\"][\"Article\"])\n"
   ]
  },
  {
   "cell_type": "code",
   "execution_count": 18,
   "metadata": {},
   "outputs": [],
   "source": [
    "# STEP 3 Summarize each article\n",
    "# This step is parallelized, though it might look like one single call, it performs one call per article to summarize.\n",
    "# Then the relevancy of the article (based on the original question) is provided by another LLM call.\n",
    "\n",
    "article_summaries,irrelevant_articles =  nrpm.summarize_each_article(articles, QUESTION)"
   ]
  },
  {
   "cell_type": "code",
   "execution_count": 19,
   "metadata": {},
   "outputs": [
    {
     "data": {
      "text/plain": [
       "[{'title': '[Neutropenia in infancy - sometimes chronic and benign - own experiences].',\n",
       "  'url': 'https://pubmed.ncbi.nlm.nih.gov/19305028/',\n",
       "  'abstract': 'Chronic neutropenia is a decrease in circulating neutrophils in the peripheral blood lasting over 6 months. Values need to be refered with the age and race. In children aged 2 weeks to 12 months reffered values are above 1000/03BCL. There are congenital and aquired reasons of neutropenia in infancy. The most common type of chronic neutropenia in infants is chronic, benign neutropenia (AIN). Authors present ten infants between three and six months with chronic, benign neutropenia. The reason of ordering laboratory tests at outpatient clinic were benign upper respiratory tract infections (four cases), pallor (four cases) and on parental demand (one case). In one infant neutropenia was observed during treatment of pneumonia at a district hospital.',\n",
       "  'citation': 'Kaczorowska-Hać B, Wierzba J, Stefanowicz J, Sielachowicz K, Wlazłowski M, Balcerska A. [Neutropenia in infancy - sometimes chronic and benign - own experiences].. Medycyna wieku rozwojowego. 2009;12(3):767-70.',\n",
       "  'is_relevant': True,\n",
       "  'PMID': StringElement('19305028', attributes={'Version': '1'}),\n",
       "  'summary': 'Summary: The article presents a case series of ten infants between three and six months with chronic, benign neutropenia. The infants were evaluated for reasons such as benign upper respiratory tract infections, pallor, and parental demand. One infant developed neutropenia during pneumonia treatment.\\n\\nStudy Design: Case series\\n\\nSample Size: 10 infants\\n\\nStudy Population: Infants between three and six months with chronic, benign neutropenia\\n\\nRisk of Bias: The study may have selection bias as it focused on a specific group of infants with chronic, benign neutropenia. The findings may not be generalizable to all cases of chronic neutropenia.'},\n",
       " {'title': 'Chronic neutropenia: diagnostic approach and prognosis.',\n",
       "  'url': 'https://pubmed.ncbi.nlm.nih.gov/6602565/',\n",
       "  'abstract': \"Chronic neutropenia is a term used to describe a group of disorders characterized by a persistent neutrophil count of less than 1500 cells/microliters. We studied seven children and three sets of parents. We separated patients into a group with good prognosis and a group at higher risk of infection by using a combination of tests, including bone marrow aspiration and biopsy, steroid stimulation of bone marrow reserve, and in vitro CFU-GM and CSA assays. Children with a normal number of myeloid elements in their bone marrow and a normal bone marrow response to steroid stimulation had a benign course. CFU-GM and CSA assays helped to classify these children's neutropenia when their bone marrow had decreased numbers of myeloid elements. Family studies in three children were consistent with an inherited neutropenia, even when their parents were hematologically normal.\",\n",
       "  'citation': 'de Alarcon PA, Goldberg J, Nelson DA, Stockman JA. Chronic neutropenia: diagnostic approach and prognosis.. The American journal of pediatric hematology/oncology. 1983;5(1):3-9.',\n",
       "  'is_relevant': True,\n",
       "  'PMID': StringElement('6602565', attributes={'Version': '1'}),\n",
       "  'summary': 'Summary: The study aimed to evaluate tests needed to diagnose Chronic Neutropenia, specifically in children. The researchers used a combination of tests including bone marrow aspiration and biopsy, steroid stimulation of bone marrow reserve, and in vitro CFU-GM and CSA assays to categorize patients into different risk groups. They found that children with a normal bone marrow response to steroid stimulation had a benign course, while CFU-GM and CSA assays helped classify neutropenia in cases with decreased myeloid elements in the bone marrow. Family studies suggested an inherited neutropenia in some cases.\\n\\nStudy Design: Observational study\\n\\nSample Size: 7 children and 3 sets of parents\\n\\nStudy Population: Children with Chronic Neutropenia and their parents\\n\\nRisk of Bias: The study may have a risk of selection bias as it only included a small number of participants. Additionally, the use of various tests and assays may introduce bias based on the interpretation and application of the results.'},\n",
       " {'title': 'Invasive aspergillosis and endocarditis.',\n",
       "  'url': 'https://pubmed.ncbi.nlm.nih.gov/34303547/',\n",
       "  'abstract': 'INTRODUCTION:\\nAspergillusfumigatus can cause a systemic infection called invasive aspergillosis causing pulmonary and extra-pulmonary damage. Aspergillus endocarditis (AE) is a relatively rare disease but can be life-threatening.\\n\\nCASE REPORTS:\\nWe report here on five cases of endocarditis due to invasive aspergillosis: a 58-year-old man receiving immunosuppressive medication following a kidney graft, a 58-year-old man undergoing chemotherapy for chronic lymphocytic leukaemia, a 55-year-old man receiving corticosteroids for IgA vasculitis, a 52-year-old HIV-infected woman under no specific treatment and a 17-year-old boy under immunosuppressive therapy for auto-immune chronic neutropenia.\\n\\nDISCUSSION:\\nAspergillus accounts for 25-30% of fungal endocarditis and 0.25% to 8.5% of all cases of infectious endocarditis. Aspergillus endocarditis results from invasion of the lung arterioles by hyphae and blood dissemination. It is associated with a very high mortality rate (42-68%). Diagnosing Aspergillus endocarditis is mainly problematic because blood cultures are almost always negative, and fever may be absent. Immunosuppression, haematological malignancies, recent cardiothoracic surgery, negative blood cultures with endocarditis and/or systemic or pulmonary emboli are predictors of AE. In the setting of endocarditis, some clinical characteristics may raise early suspicions of aspergillosis rather than a non-fungal agent: no fever, vegetations affecting the mitral valve, non-valve or aortotomy sites, aortic abscess or pseudo-aneurysm. The identification of invasive aspergillosis is based on a chest CT scan, microscopy/culture or other serological and molecular tests. The treatment of Aspergillus endocarditis requires triazole antifungal drugs, and frequently additional surgical debridement.\\n\\nCONCLUSION:\\nAspergillus endocarditis is rare but is associated with a very high mortality rate. Knowledge of its predictive factors and key clinical features can help to differentiate aspergillosis from non-fungal endocarditis and may enable improved survival rates.',\n",
       "  'citation': 'Chevalier K, Barde F, Benhamida S, Le Meur M, Thyrault M, Bentoumi Y, Lau N, Lebut J. Invasive aspergillosis and endocarditis.. La Revue de medecine interne. 2021;42(10):678-685.',\n",
       "  'is_relevant': True,\n",
       "  'PMID': StringElement('34303547', attributes={'Version': '1'}),\n",
       "  'summary': 'Summary: The article discusses five cases of endocarditis due to invasive aspergillosis, highlighting the challenges in diagnosing Aspergillus endocarditis. It emphasizes the importance of recognizing key clinical features and predictive factors to differentiate aspergillosis from non-fungal endocarditis.\\n\\nStudy Design: Case reports\\n\\nSample Size: 5 cases\\n\\nStudy Population: The cases include a variety of individuals with different underlying conditions such as immunosuppression following kidney graft, chemotherapy for chronic lymphocytic leukemia, corticosteroid therapy for IgA vasculitis, HIV infection, and immunosuppressive therapy for auto-immune chronic neutropenia.\\n\\nRisk of Bias: The study design of case reports inherently carries a risk of bias, including selection bias and potential confounding factors. Additionally, the rarity of the condition may limit generalizability to broader populations.'},\n",
       " {'title': 'Significance of the detection of antineutrophil antibodies in children with chronic neutropenia.',\n",
       "  'url': 'https://pubmed.ncbi.nlm.nih.gov/11964321/',\n",
       "  'abstract': 'We evaluated the clinical characteristics of 41 children with chronic neutropenia based on the quantitative analysis of antineutrophil antibodies in serum by flow cytometry. According to the strength of antineutrophil antibodies, the patients were divided into 3 groups: 12 patients presented negative antibodies, 13 patients showed weak positive antibodies, and 16 patients showed strong positive antibodies. No significant differences were seen in age of diagnosis, severity of neutropenia, and infectious complications associated with neutropenia among the 3 groups. The spontaneous resolution of neutropenia was observed in all patients with negative antibodies and in 22 of 29 patients with positive antibodies. The age of the recovery of neutropenia and the duration until spontaneous resolution of neutropenia were significantly dependent on the antibody strength at the time of diagnosis. These results demonstrate that the quantification of antineutrophil antibodies at the time of diagnosis may be useful in considering the clinical course of chronic neutropenia in childhood.',\n",
       "  'citation': 'Kobayashi M, Nakamura K, Kawaguchi H, Sato T, Kihara H, Hiraoka A, Tanihiro M, Taniguchi K, Takata N, Ueda K. Significance of the detection of antineutrophil antibodies in children with chronic neutropenia.. Blood. 2002;99(9):3468-71.',\n",
       "  'is_relevant': True,\n",
       "  'PMID': StringElement('11964321', attributes={'Version': '1'}),\n",
       "  'summary': 'Summary: The study evaluated 41 children with chronic neutropenia based on the quantitative analysis of antineutrophil antibodies in serum by flow cytometry. Patients were divided into 3 groups based on the strength of antineutrophil antibodies. The study found that the quantification of antineutrophil antibodies at the time of diagnosis may be useful in considering the clinical course of chronic neutropenia in childhood.\\n\\nStudy Design: Observational study\\nSample Size: 41 children\\nStudy Population: Children with chronic neutropenia\\nRisk of Bias: The study may have a risk of selection bias as it focused on children with chronic neutropenia and may not be generalizable to all populations with neutropenia. Additionally, the study design did not include a control group for comparison, which may introduce bias in interpreting the results.'},\n",
       " {'title': 'Autoimmune neutropenia of infancy.',\n",
       "  'url': 'https://pubmed.ncbi.nlm.nih.gov/3534197/',\n",
       "  'abstract': 'Neutrophil antibodies were demonstrated in 119 of 121 infants and young children with chronic neutropenia, establishing the diagnosis of autoimmune neutropenia of infancy. The median age at diagnosis was 8 months (range 3 to 30 months), and the female/male ratio was 6:4. Autoimmune neutropenia of infancy was manifested by recurrent fever and infection. All patients had selective neutropenia (absolute neutrophil count 0 to 500), and many had monocytosis. Fifteen of 16 patients tested failed to respond to epinephrine and hydrocortisone stimulation. Bone marrow had myeloid hyperplasia and reduced mature neutrophils. Recovery occurred in all 81 patients who passed the age of 5 years, except for one patient who is recovering at 6 1/2 years. The median age at recovery was 30 months; 95% recovered before 4 years. The estimated median duration of disease was 20 months. Neutrophil antibodies were detected early in the neutropenic phase by a combination of immunofluorescence and agglutination tests. Ten percent of these antibodies had specificity for NA1 or NA2. Ten of the 12 serum samples with a strong reaction in the flow cytometer reacted only with neutrophils. Two also reacted with an unidentified subpopulation (30%) of lymphocytes. Lymphocyte subsets were normal in 10 patients investigated, and abnormal levels of circulating immune complexes were detected in sera from 11 of 25 (44%) patients tested. Temporary remission was induced in all of eight patients who received intravenous IgG therapy. Autoimmune neutropenia of infancy is probably the most common cause of chronic neutropenia in infancy and early childhood, can be diagnosed by immunologic techniques, and requires only conservative management; spontaneous cure appears to be the rule.',\n",
       "  'citation': 'Lalezari P, Khorshidi M, Petrosova M. Autoimmune neutropenia of infancy.. The Journal of pediatrics. 1986;109(5):764-9.',\n",
       "  'is_relevant': True,\n",
       "  'PMID': StringElement('3534197', attributes={'Version': '1'}),\n",
       "  'summary': 'Summary: The study demonstrates that neutrophil antibodies were found in infants and young children with chronic neutropenia, specifically autoimmune neutropenia of infancy. The condition presented with recurrent fever and infections, selective neutropenia, and myeloid hyperplasia in bone marrow. Recovery typically occurred before the age of 5, with a median duration of disease of 20 months. Immunologic tests, including immunofluorescence and agglutination, were crucial for diagnosis.\\n\\nStudy Design: Retrospective study\\n\\nSample Size: 121 infants and young children with chronic neutropenia\\n\\nStudy Population: Infants and young children with chronic neutropenia, specifically autoimmune neutropenia of infancy\\n\\nRisk of Bias: The study may have a risk of selection bias as it focused on infants and young children with autoimmune neutropenia of infancy, potentially excluding other causes of chronic neutropenia. Additionally, the study design being retrospective may introduce information bias.'},\n",
       " {'title': 'An update on the diagnosis and treatment of chronic idiopathic neutropenia.',\n",
       "  'url': 'https://pubmed.ncbi.nlm.nih.gov/27841775/',\n",
       "  'abstract': 'PURPOSE OF REVIEW:\\nNeutropenia lasting for at least for 3 months and not attributable to drugs or a specific genetic, infectious, inflammatory, autoimmune or malignant cause is called chronic idiopathic neutropenia (CIN). CIN and autoimmune neutropenia (AIN) are very similar and overlapping conditions. The clinical consequences depend upon the severity of neutropenia, but it is not considered a premalignant condition.\\n\\nRECENT FINDINGS:\\nLong-term observational studies in children indicate that the disease often lasts for 3-5 years in children, then spontaneously remits, but it rarely remits in adult cases. The value of antineutrophil antibody testing in both children and adults is uncertain. Most recent data suggest that CIN and AIN are immune-mediated diseases, but there are no new clinical or genetic tests to aid in diagnosis. Treatment with granulocyte colony stimulating factor (G-CSF) is effective to increase blood neutrophils in almost all cases; this treatment is reserved, however, for patients with both neutropenia and evidence of recurrent fevers, inflammatory symptoms and infections. There is little or no evidence to indicate that G-CSF treatment predisposes to myeloid malignancies in this population.\\n\\nSUMMARY:\\nIt is important to recognize CIN and AIN, the most common causes of chronic neutropenia in both children and adults. If the neutropenia is not severe, that is more than 0.5\\u200a×\\u200a10/l, most patients can be observed and not treated prophylactically with antibiotics or a growth factor. When neutropenia is severe, treatment with G-CSF is often beneficial.',\n",
       "  'citation': 'Dale DC, Welte K. Neutropenia and Neutrophilia. In: Kaushansky K, Lichtman MA, Prchal JT, et al., editors. Williams Hematology. 9th. New York, NY: McGraw-Hill; 2016. pp. 991–1004. A current textbook review.',\n",
       "  'is_relevant': True,\n",
       "  'PMID': StringElement('27841775', attributes={'Version': '1'}),\n",
       "  'summary': \"Summary: Chronic idiopathic neutropenia (CIN) and autoimmune neutropenia (AIN) are immune-mediated diseases that can last for several years, with CIN often remitting in children but rarely in adults. Antineutrophil antibody testing's value is uncertain, and there are no new clinical or genetic tests for diagnosis. Treatment with granulocyte colony stimulating factor (G-CSF) can increase blood neutrophils effectively, especially in cases with recurrent fevers, inflammatory symptoms, and infections.\\n\\nStudy Design: This is a review article summarizing recent findings on chronic neutropenia, focusing on CIN and AIN.\\n\\nSample Size: The study does not specify a sample size as it is a review article summarizing existing evidence.\\n\\nStudy Population: The review discusses chronic neutropenia in both children and adults, highlighting the similarities and differences between CIN and AIN.\\n\\nRisk of Bias: The review article may have some bias as it synthesizes existing evidence and does not present new data. Additionally, the uncertainty regarding the value of antineutrophil antibody testing and lack of new diagnostic tests could introduce bias in the interpretation of the findings.\"},\n",
       " {'title': 'Reduction of CFU-GM and circulating hematopoietic progenitors in a subgroup of children with chronic neutropenia associated with severe infections and delayed recovery.',\n",
       "  'url': 'https://pubmed.ncbi.nlm.nih.gov/30870474/',\n",
       "  'abstract': 'Myelopoiesis was evaluated in 66 pediatric patients with chronic neutropenia who were positive for anti-neutrophil antibodies (median age at diagnosis: 11 months, median neutrophil count at diagnosis: 419/μl). Other causes of neutropenia were excluded. Bone marrow morphology, clonogenic tests and/or the peripheral blood CD 34+ cell count, and apoptotic rate were evaluated in 61 patients with neutropenia lasting > 12 months or severe infections. The peripheral blood CD 34+ cell count and apoptotic rate were evaluated in five patients with shorter neutropenia. The median follow-up time was 29 months (range 7-180 months). Forty-seven patients (71.2%) had a spontaneous recovery after 7-180 months (median 29 months). The group of patients younger than 24 months at diagnosis (n = 50) had a higher probability of recovery (40/50 vs. 7/16 χ2 p<0.01) with a shorter period of neutropenia (median 26 versus 47 months, Kaplan-Meier analysis p = 0.001). The colony-forming units-granulocyte-macrophage (CFU-GM) were significantly decreased in 26/35 patients (74%) evaluated for clonogenic tests. All patients with normal CFU-GM recovered (9/9 patients); whereas, neutropenia persisted in 12/26 patients with reduced CFU-GM (46%, Pearson χ2 p = 0.02). In 36/55 (65%) patients evaluated by flow cytometry we observed reduced circulating CD34+ cells compared with controls of the same age. An increase in the circulating CD34+ cell apoptotic rate was observed in 28/55 patients (51%). Infections requiring hospitalization were observed in 9/18 (50%; Pearson χ2, p = 0.03) patients with both decreased circulating CD34+ cells and increased CD34+ apoptotic rates. In the group aged < 24 months, we observed a significant correlation between the persistence of neutropenia and decreased circulating CD34+ cells (Pearson χ2 p = 0.008). In conclusion, reduced CFU-GM and circulating hematopoietic progenitors were observed in a subgroup of children with chronic neutropenia who were positive for anti-neutrophil antibodies and had a higher incidence of severe infections and delayed spontaneous remission.',\n",
       "  'citation': 'Bux J, Behrens G, Jaeger G, Welte K. Diagnosis and clinical course of autoimmune neutropenia in infancy: analysis of 240 cases. Blood. 1998; 91: 181–186.',\n",
       "  'is_relevant': True,\n",
       "  'PMID': StringElement('30870474', attributes={'Version': '1'}),\n",
       "  'summary': 'Summary: The study evaluated myelopoiesis in 66 pediatric patients with chronic neutropenia positive for anti-neutrophil antibodies. They found that reduced colony-forming units-granulocyte-macrophage (CFU-GM) and circulating hematopoietic progenitors were observed in a subgroup of children with chronic neutropenia. Patients with normal CFU-GM were more likely to recover, while those with reduced CFU-GM had persistent neutropenia. Decreased circulating CD34+ cells and increased CD34+ apoptotic rates were associated with a higher incidence of severe infections and delayed spontaneous remission.\\n\\nStudy Design: Retrospective cohort study\\nSample Size: 66 pediatric patients with chronic neutropenia\\nStudy Population: Pediatric patients with chronic neutropenia positive for anti-neutrophil antibodies\\nRisk of Bias: The study may have selection bias as it only included patients with chronic neutropenia positive for anti-neutrophil antibodies, potentially excluding other causes of neutropenia. Additionally, the retrospective nature of the study may introduce information bias.'},\n",
       " {'title': 'Physician Education: Myelodysplastic Syndrome.',\n",
       "  'url': 'https://pubmed.ncbi.nlm.nih.gov/10388004/',\n",
       "  'abstract': 'CHARACTERISTICS AND PATHOLOGY OF MYELODYSPLASTIC SYNROME: Myelodysplastic syndrome (MDS) is a disease of the blood whose etiology is unclear. There is little that can be done therapeutically, and the prognosis for patients with this disease is poor. The main hematologic finding is anemia, but MDS responds poorly to the various kinds of drugs used to treat anemia, and in the past it was called refractory anemia. Moreover, 25% to 40% of MDS patients develop acute leukemia, so MDS has also been referred to as preleukemia or a preleukemic condition. When blood diseases are classified as either erythrocytic or leukocytic, it is often unclear into which category MDS falls. Although MDS sometimes occurs in young adults and children, it most often appears in older patients. Diagnosis is confirmed in laboratory tests by a reduction in peripheral blood cells, an abundance of cells in the bone marrow (cellular marrow), abnormal cellular morphology, and chromosomal abnormalities. In primary cases there is no history of underlying disease or administration of drugs that is toxic to the marrow. The course of the disease is chronic but irreversible, and in a high percentage of cases it either develops into acute leukemia or the patient succumbs to infection or hemorrhage (death due to bone marrow failure). In general, all blood cells arise from a single type of pluripotent hematopoietic stem cell in the marrow. In MDS, the hematopoietic stem cells acquire mutations and cannot produce sufficient numbers of mature blood cells (Fig. 1). In aplastic anemia the hematopoietic stem cells are also abnormal, and blood cell production in the marrow generally declines. In MDS, however, there are sufficient numbers of blood cells of each lineage along the path from hematopoietic stem cell to mature blood cell, but the cells do not completely mature and differentiate. Because of this deficiency in the differentiation process, the cells die in the marrow without maturing and differentiating (ineffective hematopoiesis). Furthermore, blood cells that escape death in the bone marrow and are released into the peripheral blood have both morphological and functional abnormalities compared with normal blood cells. In other words, MDS is an abnormality at the hematopoietic stem cell level, and it is characterized by the presence of clonal blood cells that are abnormal both in quality (morphology, function, differentiation) and quantity (cytopenia) [1]. Because these abnormalities are found in multiple blood cell lineages, they are believed to be clonal abnormalities that originate in the pluripotent hematopoietic stem cells. The reason why the stem cells become abnormal is still unclear. However, MDS can arise following treatment with antineoplastic agents such as alkylating agents or radiation treatments (therapy-related MDS), and it has been proposed that MDS is caused by cumulative DNA damage in stem cells from mutagenic substances such as antitumor drugs [2]. DIAGNOSIS AND DIFFERENTIAL DIAGNOSIS: Screening for MDS should begin with the fact that there is chronic, progressive cytopenia, the marrow is normal or hyperplastic, and there is no underlying disease (such as disseminated intravascular coagulation [DIC], portal hypertension, collagen disorder, etc.) that could otherwise cause these conditions (Table 1). MDS is most likely to occur in middle-aged and elderly patients, but because it can also occur in the young, age is not a determining factor for diagnosis. Diagnosis is verified by ineffective hematopoiesis and blood cells with morphological abnormalities in the marrow and peripheral blood. Although there are, for example, ferrokinetic studies for erythroid cells, etc., it is impossible to make an accurate evaluation of ineffective hematopoiesis based only on abnormal laboratory test results. Therefore, if chronic cytopenia and cellular marrow are both present, then abnormal morphology of blood cells becomes the deciding factor in diagnosis. Typical morphological abnormalities in MDS include megaloblasts (photo 1), dissociated maturation of the nucleus and cytoplasm (photo 2), abnormal multinucleated erythroblasts with three or more nuclei (photo 1), and ringed sideroblasts (photo 3) in the erythrocytic lineage; hypersegmented (photo 4) or hyposegmented neutrophils (pseudo Pelger-Huët nuclear anomaly, photo 5), reduced or missing granules (photos 4 and 5), and peroxidase-negative neutrophils in the granulocytic lineage; and micromegakaryocytes (photo 6), megakaryocytes with multiple, isolated disc-shaped nuclei (photo 7) and giant platelets (photo 8) in the megakaryocytic lineage. However, these morphological abnormalities are not specific to MDS, and they are also seen in pernicious anemia, acute myelocytic leukemia, etc. Therefore, a diagnosis of MDS must exclude these other diseases with which we are already familiar. Once MDS is confirmed, then the type of MDS is determined in accordance with FAB classification [1] (Fig. 2). Differential diagnosis applies to all cases presenting with cytopenia. Various types of anemia such as aplastic anemia, hemolytic anemia, secondary anemia, etc., blood disorders such as idiopathic thrombocytopenic purpura, chronic neutropenia, etc., as well as collagen diseases, portal hypertension, DIC, etc., can all be differentiated from MDS based on their characteristic symptoms and laboratory test results. However, atypical forms of MDS [3, 4] also occur, such as hypoplastic marrow MDS, MDS with minimal dysplasia, amegakaryocytic MDS, etc. Meticulous microscopic examination of blood cell morphology and careful observation of the clinical course are essential, in addition to bone marrow biopsy, chromosomal studies of marrow cells, blood cell clonality analysis, etc. RECENT DEVELOPMENTS: APOPTOSIS: One biological characteristic of MDS is the presence of blood cells of abnormal clones derived from abnormal hematopoietic stem cells. These abnormal clones demonstrate ineffective hematopoiesis, which is reflected in the contradictory phenomena of normal or hyperplastic bone marrow concurrent with cytopenia in the peripheral blood. This is a result of premature cell death in the bone marrow that accompanies the abnormal blood cell differentiation found in MDS. Therefore, it has been proposed that it is very likely this early cell death takes the form of apoptosis, and, little by little, experimental results supporting this view have been published [5-7]. The development of MDS into acute leukemia is thought to be due to the survival of immature cells (blast cells) that have escaped apoptosis and have acquired the ability to proliferate [6]. Antileukemic drugs act by inducing apoptosis in leukocytes, and it is likely that acute leukemia from MDS is intractable because it has managed to bypass the mechanism of apoptosis. Research is now focused on the detection of excessive apoptosis in vivo in MDS patients and the relationship between apoptosis and the development of MDS. ORIGIN OF BLOOD CELL CLONING: Chromosomal analysis of bone marrow cells is effective as an everyday laboratory test to verify clonality, but it lacks sensitivity. The FISH method is useful for determining clonality at the level of individual blood cells, but cannot be used in patients with no chromosomal abnormalities. DNA polymorphism of enzymes mapped on the X chromosome can only be used in females, but interesting research is being conducted on the clonality of lymphocytes and the possible survival of normal hematopoietic clones. ONSET AND PROGRESSION: Unstable clones with functional deficiencies are produced by abnormal stem cells. From the standpoint of chromosomal research, it is believed that MDS occurs not from a single type of stem cell damage, but from an accumulation of multiple and random stem cell damage. MDS is a prime candidate for research on the onset of human leukemia, and when we combine what we know about MDS with its development into leukemia, we can understand the development of MDS from the standpoint of apoptosis, genetic abnormalities, chromosomal abnormalities and progression of cloning. RISK FACTORS: Many risk factors for MDS have been proposed, and it has been confirmed internationally that the four major risk factors are the blast cell ratio in the bone marrow, advanced age, chromosomal abnormalities, and thrombocytopenia.',\n",
       "  'citation': 'Yoshida Y. Physician Education: Myelodysplastic Syndrome.. The oncologist. 1996;1(4):284-287.',\n",
       "  'is_relevant': True,\n",
       "  'PMID': StringElement('10388004', attributes={'Version': '1'}),\n",
       "  'summary': 'Summary: The article discusses the characteristics and pathology of Myelodysplastic Syndrome (MDS), focusing on the diagnosis and differential diagnosis of the disease. It emphasizes the importance of identifying chronic, progressive cytopenia, abnormal morphology of blood cells in the marrow and peripheral blood, and excluding other diseases with similar symptoms. The study also touches on recent developments in understanding the biological characteristics of MDS, particularly the role of apoptosis in ineffective hematopoiesis and the potential relationship between apoptosis and the development of MDS into acute leukemia.\\n\\nStudy Design: This article appears to be a review summarizing the current understanding of MDS, including its characteristics, diagnosis, differential diagnosis, recent developments, and risk factors. No specific study design or methodology is mentioned.\\n\\nSample Size: The article does not mention a specific study size as it appears to be a review summarizing existing knowledge and research on MDS.\\n\\nStudy Population: The study population is not explicitly mentioned as the article is a review of the characteristics, diagnosis, and recent developments in MDS. However, the information presented is based on research and clinical knowledge related to patients with MDS.\\n\\nRisk of Bias: The article does not mention a specific study design or provide details on potential biases. However, as it is a review article summarizing existing knowledge, it may be subject to bias based on the selection and interpretation of the studies and information included.'},\n",
       " {'title': 'Primary autoimmune neutropenia in adults: case report and review of the literature.',\n",
       "  'url': 'https://pubmed.ncbi.nlm.nih.gov/24827415/',\n",
       "  'abstract': 'BACKGROUND:\\nPrimary autoimmune neutropenia (AIN) is a rare and often unrecognized disorder in adults.\\n\\nSTUDY DESIGN AND METHODS:\\nWe report the case of a patient referred to our institution for weight loss and severe chronic neutropenia with a negative personal history for severe recurrent infections.\\n\\nRESULTS:\\nThe patient was diagnosed with a lung infiltrate, and a bronchoalveolar lavage was positive for Pseudomonas aeruginosa. Antibiotic therapy was performed with resolution of infection, but persistence of neutropenia. Several investigations excluded the most common causes of neutropenia and a marrow trephine showed a maturation arrest of the myeloid lineage. Treatment with granulocyte-colony-stimulating factor (G-CSF) caused a transient increase in neutrophil counts. Based on the mild clinical history and the short-lived increase in neutrophil count after G-CSF, primary AIN was suspected. Intravenous immunoglobulins induced a short-lived increase in neutrophil count; primary AIN was confirmed about 5 months after discharge by direct and indirect granulocyte immunofluorescence tests. The patient was discharged and no further therapy was required for persistent severe neutropenia in the absence of recurrent infections.\\n\\nCONCLUSION:\\nPrimary AIN should be considered early in the diagnostic process of isolated neutropenia, to avoid expensive and time-consuming unnecessary diagnostic procedures.',\n",
       "  'citation': 'Mariotti J, Caberlon S, Bertinato E, Podda G, Pugliano MT, Cattaneo M. Primary autoimmune neutropenia in adults: case report and review of the literature.. Transfusion. 2013;54(11):2906-10.',\n",
       "  'is_relevant': True,\n",
       "  'PMID': StringElement('24827415', attributes={'Version': '1'}),\n",
       "  'summary': 'Summary: The article presents a case study of a patient with primary autoimmune neutropenia (AIN) who presented with weight loss and severe chronic neutropenia. The patient was initially diagnosed with a lung infiltrate and Pseudomonas aeruginosa infection, which was successfully treated with antibiotics. Despite resolution of the infection, the patient continued to have persistent neutropenia. Various investigations were conducted to rule out common causes of neutropenia, and a marrow trephine showed a maturation arrest of the myeloid lineage. Treatment with granulocyte-colony-stimulating factor (G-CSF) and intravenous immunoglobulins resulted in transient increases in neutrophil counts. The diagnosis of primary AIN was confirmed about 5 months after discharge.\\n\\nStudy Design: Case report\\nSample Size: 1 patient\\nStudy Population: Adult patient with weight loss, severe chronic neutropenia, and a negative personal history of severe recurrent infections\\nRisk of Bias: The study design is a case report, which is subject to biases such as selection bias, reporting bias, and confounding factors. Additionally, the findings from a single case may not be generalizable to the broader population.'}]"
      ]
     },
     "execution_count": 19,
     "metadata": {},
     "output_type": "execute_result"
    }
   ],
   "source": [
    "# Summaries for relevant articles\n",
    "article_summaries"
   ]
  },
  {
   "cell_type": "code",
   "execution_count": 14,
   "metadata": {},
   "outputs": [
    {
     "data": {
      "text/plain": [
       "[{'title': 'Myocarditis With COVID-19 mRNA Vaccines.',\n",
       "  'url': 'https://pubmed.ncbi.nlm.nih.gov/34281357/',\n",
       "  'abstract': 'Myocarditis has been recognized as a rare complication of coronavirus disease 2019 (COVID-19) mRNA vaccinations, especially in young adult and adolescent males. According to the US Centers for Disease Control and Prevention, myocarditis/pericarditis rates are ≈12.6 cases per million doses of second-dose mRNA vaccine among individuals 12 to 39 years of age. In reported cases, patients with myocarditis invariably presented with chest pain, usually 2 to 3 days after a second dose of mRNA vaccination, and had elevated cardiac troponin levels. ECG was abnormal with ST elevations in most, and cardiac MRI was suggestive of myocarditis in all tested patients. There was no evidence of acute COVID-19 or other viral infections. In 1 case, a cardiomyopathy gene panel was negative, but autoantibody levels against certain self-antigens and frequency of natural killer cells were increased. Although the mechanisms for development of myocarditis are not clear, molecular mimicry between the spike protein of severe acute respiratory syndrome coronavirus-2 (SARS-CoV-2) and self-antigens, trigger of preexisting dysregulated immune pathways in certain individuals, immune response to mRNA, and activation of immunologic pathways, and dysregulated cytokine expression have been proposed. The reasons for male predominance in myocarditis cases are unknown, but possible explanations relate to sex hormone differences in immune response and myocarditis, and also underdiagnosis of cardiac disease in women. Almost all patients had resolution of symptoms and signs and improvement in diagnostic markers and imaging with or without treatment. Despite rare cases of myocarditis, the benefit-risk assessment for COVID-19 vaccination shows a favorable balance for all age and sex groups; therefore, COVID-19 vaccination is recommended for everyone ≥12 years of age.',\n",
       "  'citation': 'Su JR, McNeil MM, Welsh KJ, Marquez PL, Ng C, Yan M, Cano MV. Myopericarditis after vaccination, Vaccine Adverse Event Reporting System (VAERS), 1990–2018. Vaccine. 2021;39:839–845. doi: 10.1016/j.vaccine.2020.12.046',\n",
       "  'is_relevant': False,\n",
       "  'PMID': StringElement('34281357', attributes={'Version': '1'})},\n",
       " {'title': 'Epidemiology of Neonatal COVID-19 in the United States.',\n",
       "  'url': 'https://pubmed.ncbi.nlm.nih.gov/35996224/',\n",
       "  'abstract': 'OBJECTIVES:\\nData on coronavirus disease 2019 (COVID-19) infections in neonates are limited. We aimed to identify and describe the incidence, presentation, and clinical outcomes of neonatal COVID-19.\\n\\nMETHODS:\\nOver 1 million neonatal encounters at 109 United States health systems, from March 2020 to February 2021, were extracted from the Cerner Real World Database. COVID-19 diagnosis was assessed using severe acute respiratory syndrome coronavirus 2 (SARS-CoV-2) laboratory tests and diagnosis codes. Incidence of COVID-19 per 100\\u2009000 encounters was estimated.\\n\\nRESULTS:\\nCOVID-19 was diagnosed in 918 (0.1%) neonates (91.1 per 100\\u2009000 encounters [95% confidence interval 85.3-97.2]). Of these, 71 (7.7%) had severe infection (7 per 100\\u2009000 [95% confidence interval 5.5-8.9]). Median time to diagnosis was 14.5 days from birth (interquartile range 3.1-24.2). Common signs of infection were tachypnea and fever. Those with severe infection were more likely to receive respiratory support (50.7% vs 5.2%, P < .001). Severely ill neonates received analgesia (38%), antibiotics (33.8%), anticoagulants (32.4%), corticosteroids (26.8%), remdesivir (2.8%), and COVID-19 convalescent plasma (1.4%). A total of 93.6% neonates were discharged home after care, 1.1% were transferred to another hospital, and discharge disposition was unknown for 5.2%. One neonate (0.1%) with presentation suggestive of multisystem inflammatory syndrome in children died after 11 days of hospitalization.\\n\\nCONCLUSIONS:\\nMost neonates infected with SARS-CoV-2 were asymptomatic or developed mild illness without need for respiratory support. Some had severe illness requiring treatment of COVID-19 with remdesivir and COVID-19 convalescent plasma. SARS-CoV-2 infection in neonates, though rare, may result in severe disease.',\n",
       "  'citation': 'Devin J, Marano R, Mikhael M, Feaster W, Sanger T, Ehwerhemuepha L. Epidemiology of Neonatal COVID-19 in the United States.. Pediatrics. 2022;150(4):.',\n",
       "  'is_relevant': False,\n",
       "  'PMID': StringElement('35996224', attributes={'Version': '1'})},\n",
       " {'title': 'COVID-19 Testing of United States-Bound Agricultural Workers in Mexico.',\n",
       "  'url': 'https://pubmed.ncbi.nlm.nih.gov/37639043/',\n",
       "  'abstract': \"The COVID-19 pandemic presents global health, welfare, and economic concerns. The agricultural workforce has experienced adverse effects, placing the U.S. food supply at risk. Agricultural workers temporarily travel to the United States on H-2A visas to supplement the agricultural workforce. Approximately 300,000 agricultural workers enter the United States with H-2A visas each year; over 90.0% are from Mexico.\\xa0During February-May 2021, a COVID-19 testing pilot was performed with Clínica Médica Internacional (CMI), a clinic that performs medical examinations for US-bound immigrants, to determine the SARS-CoV-2 infection status of H-2A agricultural workers in Mexico before entry to the US. The CerTest VIASURE Real Time PCR Detection Kit was used. Participants' demographic information, test results, and testing turnaround times were collected. Workers who tested positive for SARS-CoV-2 completed isolation before US entry.\\xa0During the pilot, 1195\\xa0H-2A workers were tested; 15 (1.3%) tested positive. Average reporting time was 31\\xa0h after specimen collection.\\xa0This pilot demonstrated there is interest from H-2A employers and agents in testing the H-2A community before US entry. Testing for SARS-CoV-2 can yield public health benefit, is feasible, and does not delay entry of temporary agricultural workers to the US.\",\n",
       "  'citation': 'US Department of Agriculture. H-2A visa program for temporary workers. Farmers gov. 2020. https://www.farmers.gov/working-with-us/h2a-visa-program.',\n",
       "  'is_relevant': False,\n",
       "  'PMID': StringElement('37639043', attributes={'Version': '1'})}]"
      ]
     },
     "execution_count": 14,
     "metadata": {},
     "output_type": "execute_result"
    }
   ],
   "source": [
    "# Articles deemed irelevant\n",
    "irrelevant_articles "
   ]
  },
  {
   "cell_type": "code",
   "execution_count": 21,
   "metadata": {},
   "outputs": [
    {
     "name": "stdout",
     "output_type": "stream",
     "text": [
      "synthesis\n",
      "Literature Summary: Studies on chronic neutropenia in children have highlighted various diagnostic approaches. De Alarcon et al. utilized bone marrow aspiration, biopsy, steroid stimulation, and in vitro assays to categorize patients, finding that a normal bone marrow response to steroids indicated a benign course, while CFU-GM and CSA assays helped classify neutropenia. Antineutrophil antibody quantification in children with chronic neutropenia may aid in understanding the clinical course, as demonstrated by Kobayashi et al. In autoimmune neutropenia of infancy, Lalezari et al. emphasized the importance of immunologic tests for diagnosis. Bux et al. found associations between reduced CFU-GM, circulating hematopoietic progenitors, and severe infections in pediatric patients with anti-neutrophil antibodies. Dale and Welte reviewed chronic idiopathic neutropenia (CIN) and autoimmune neutropenia (AIN), suggesting G-CSF treatment for increasing neutrophils in symptomatic cases. While these studies provide valuable insights, the evidence is limited by small sample sizes, potential selection bias, and the retrospective nature of some studies.\n",
      "\n",
      "TL;DR: Diagnostic tests for chronic neutropenia in children may include bone marrow evaluation, steroid stimulation, antineutrophil antibody quantification, and immunologic tests, with potential treatment implications, but the evidence is limited by study design and sample sizes.\n",
      "\n",
      "References:\n",
      "1. de Alarcon PA, Goldberg J, Nelson DA, Stockman JA. Chronic neutropenia: diagnostic approach and prognosis. The American journal of pediatric hematology/oncology. 1983;5(1):3-9.\n",
      "2. Kobayashi M, Nakamura K, Kawaguchi H, Sato T, Kihara H, Hiraoka A, Tanihiro M, Taniguchi K, Takata N, Ueda K. Significance of the detection of antineutrophil antibodies in children with chronic neutropenia. Blood. 2002;99(9):3468-71.\n",
      "3. Lalezari P, Khorshidi M, Petrosova M. Autoimmune neutropenia of infancy. The Journal of pediatrics. 1986;109(5):764-9.\n",
      "4. Bux J, Behrens G, Jaeger G, Welte K. Diagnosis and clinical course of autoimmune neutropenia in infancy: analysis of 240 cases. Blood. 1998;91:181–186.\n",
      "5. Dale DC, Welte K. Neutropenia and Neutrophilia. In: Kaushansky K, Lichtman MA, Prchal JT, et al., editors. Williams Hematology. 9th. New York, NY: McGraw-Hill; 2016. pp. 991–1004.\n"
     ]
    }
   ],
   "source": [
    "# STEP 4 do a synthesis of all summaries to answer question: \n",
    "synthesis =   nrpm.synthesize_all_articles(article_summaries, QUESTION)\n",
    "print(\"synthesis\")\n",
    "print(synthesis)"
   ]
  },
  {
   "cell_type": "markdown",
   "metadata": {},
   "source": [
    "# Great! We answered our first question using Clinfo.AI!\n",
    "## Here are all the steps condensed:"
   ]
  },
  {
   "cell_type": "code",
   "execution_count": 16,
   "metadata": {},
   "outputs": [
    {
     "name": "stdout",
     "output_type": "stream",
     "text": [
      "\n",
      "Task Name: pubmed_query_prompt\n",
      "------------------------------------------------------------------------\n",
      "\n",
      "Task Name: relevance_prompt\n",
      "------------------------------------------------------------------------\n",
      "\n",
      "Task Name: summarization_prompt\n",
      "------------------------------------------------------------------------\n",
      "\n",
      "Task Name: synthesize_prompt\n",
      "------------------------------------------------------------------------\n",
      "Trying to init model via VLM\n",
      "Result:\n",
      "Literature Summary: The prevalence of COVID-19 in the United States varies across different populations and occupational groups. A cross-sectional study by Koh (2020) estimated that workers in the healthcare and social assistance industry, as well as healthcare professions and support roles, had elevated risks, with a national prevalence of around 1.7% in a community-based survey in 2020. A meta-analysis of hospitalized patients by Esper et al. (2021) found a prevalence of 6.9% with bacterial co-infection or secondary infection, with higher rates in critically ill patients. The Centers for Disease Control and Prevention's data showed a prevalence of 1.7% in a sample of 5,000 adults in April-May 2020. A web-based survey among dental hygienists found a prevalence of 3.1% with enhanced infection prevention measures, and a meta-analysis by Chen et al. (2021) estimated a global pooled prevalence of 0.43% in patients with COVID-19 28+ days post-infection. The US population experienced a 3-fold increase in depression symptoms during the pandemic, as reported by Healthline (2020). A descriptive analysis of CDC data found hypertension and diabetes as the most prevalent CVD conditions, with higher risks in racial and ethnic minority groups (Ahmad & Anderson, 2021).\n",
      "\n",
      "TL;DR: The prevalence of COVID-19 in the United States ranges from 1.7% in the general population to 6.9% among hospitalized patients, with higher risks among healthcare workers, and a global pooled prevalence of 0.43% in those with the disease. The pandemic also led to a significant increase in depression and disparities in CVD conditions, particularly among racial and ethnic minorities.\n",
      "\n",
      "References:\n",
      "1. Koh, D. (2020). Occupational risks for COVID-19 infection. Occup. Med. (Lond.), 70(1), 3-5. doi: 10.1093/occmed/kqaa036\n",
      "2. Esper, F.P., Spahlinger, T., Zhou, L. (2021). Rate and influence of respiratory virus co-infection on pandemic (H1N1) influenza disease. J. Infect., 63, 260-266\n",
      "3. Centers for Disease Control and Prevention. (2020). Coronavirus Disease 2019 (COVID-19). Cases in the U.S. New Cases by Day. [Accessed on August 19, 2020]. Available from: <https://www.cdc.gov/coronavirus/2019-ncov/cases-updates/cases-in-us.html>\n",
      "4. Estrich, C.G., et al. (2020). COVID-19 prevalence and related practices among dental hygienists in the United States. J. Dental Hyg., 95(1), 6-16\n",
      "5. Chen, C., et al. (2021). Global Prevalence of Post-Coronavirus Disease 2019 (COVID-19) Condition or Long COVID: A Meta-Analysis and Systematic Review. The Journal of Infectious Diseases, 226(9), 1593-1607\n",
      "6. Healthline. (2020). Traumatic events: causes, effects, and management. [Accessed on April 13, 2020]. <https://www.healthline.com/health/traumatic-events>\n",
      "7. Ahmad, F.B., Anderson, R.N. (2021). The leading causes of death in the US for 2020. JAMA, 325(18), 1829. doi: 10.1001/jama.2021.5469\n",
      "8. WHO Health Emergency Dashboard. (Accessed on October 12, 2021). <https://extranet.who.int/publicemergency>\n",
      "9. Abedi, V., Olulana, O., Avula, V., Chaudhary, D., Khan, A., Shahjouei, S., Li, J., Zand, R. (2020). Racial, Economic, and Health Inequality and COVID-19 Infection in the United States. medRxiv.\n"
     ]
    }
   ],
   "source": [
    "PROMPS_PATH  = os.path.join(\"..\",\"src\",\"clinfoai\",\"prompts\",\"PubMed\",\"Architecture_1\",\"master.json\")\n",
    "MODEL:str    = \"gpt-3.5-turbo\"\n",
    "MODEL:str    = \"Qwen/Qwen2-beta-7B-Chat\"\n",
    "\n",
    "nrpm = PubMedNeuralRetriever(\n",
    "    architecture_path = PROMPS_PATH,\n",
    "    model             = MODEL,\n",
    "    verbose           = False,\n",
    "    debug             = False,\n",
    "    open_ai_key       = OPENAI_API_KEY,\n",
    "    email             = EMAIL)\n",
    "\n",
    "### STEP 0: Ask a question ###\n",
    "question    = \"What is the prevalence of COVID-19 in the United States?\"\n",
    "\n",
    "### STEP 1: Search PubMed ###\n",
    "pubmed_queries, article_ids = nrpm.search_pubmed(question,num_results=10,num_query_attempts=1)\n",
    "\n",
    "### STEP 2: Fetch article data ###\n",
    "articles = nrpm.fetch_article_data(article_ids)\n",
    "\n",
    "### STEP 3 Summarize each article (only if they are relevant [Step 3]) ###\n",
    "article_summaries,irrelevant_articles =  nrpm.summarize_each_article(articles, question)\n",
    "\n",
    "\n",
    "### STEP 4: Synthesize the results ###\n",
    "synthesis =   nrpm.synthesize_all_articles(article_summaries, question)\n",
    "print(\"Result:\")\n",
    "print(synthesis)"
   ]
  },
  {
   "cell_type": "code",
   "execution_count": null,
   "metadata": {},
   "outputs": [],
   "source": []
  }
 ],
 "metadata": {
  "kernelspec": {
   "display_name": "Python clinfo)",
   "language": "python",
   "name": "clinfo"
  },
  "language_info": {
   "codemirror_mode": {
    "name": "ipython",
    "version": 3
   },
   "file_extension": ".py",
   "mimetype": "text/x-python",
   "name": "python",
   "nbconvert_exporter": "python",
   "pygments_lexer": "ipython3",
   "version": "3.9.16"
  }
 },
 "nbformat": 4,
 "nbformat_minor": 4
}
