{
 "cells": [
  {
   "cell_type": "code",
   "execution_count": 1,
   "metadata": {},
   "outputs": [
    {
     "name": "stderr",
     "output_type": "stream",
     "text": [
      "/pasteur/u/ale9806/miniconda3/envs/clinfo/lib/python3.9/site-packages/transformers/utils/hub.py:124: FutureWarning: Using `TRANSFORMERS_CACHE` is deprecated and will be removed in v5 of Transformers. Use `HF_HOME` instead.\n",
      "  warnings.warn(\n"
     ]
    }
   ],
   "source": [
    "import sys\n",
    "import os\n",
    "from  pathlib import  Path\n",
    "sys.path.append(str(Path.cwd().parent))\n",
    "from  config import OPENAI_API_KEY,NCBI_API_KEY,EMAIL\n",
    "from  src.clinfoai.pubmed_engine import PubMedNeuralRetriever"
   ]
  },
  {
   "cell_type": "markdown",
   "metadata": {},
   "source": [
    "# Using Clinfo.AI \n",
    "\n",
    "In this tutorial, we will go through each step of the Clinfo.AI workflow. Before we start, we need to set up a few things. \n",
    "\n",
    "\n",
    "### 1.- Setting up enviorment:\n",
    "1.a.- Install the conda enviroment using the yml file provided.\n",
    "\n",
    "``` conda env create -f environment.yaml ```\n",
    "\n",
    "1.b.- Select your environment to run notebook. I recommend using VScode: \n",
    "\n",
    "\n",
    "\n",
    "### 2.- Creating Accounts\n",
    "\n",
    "You will need at least one account and at most two (depending on how many calls/hour you plan to do):\n",
    "* OPENAI account: If you start a free account for the first time, you will get $5 in API credits.\n",
    "* NCBI_API_KEY: This is only necessary if you plan to make more than 10 calls per hour.\n",
    "\n",
    "\n",
    "Once you have created both accounts  go to **src\\config.py** file and: \n",
    "\n",
    "* Set OPENAI_API_KEY to your openAI API key\n",
    "\n",
    "If you created an NCBI API account add your key and email in the following values: \n",
    "* NCBI_API_KEY \n",
    "* EMAIL\n",
    "* \n",
    "Otherwise, leave them as None"
   ]
  },
  {
   "cell_type": "code",
   "execution_count": 2,
   "metadata": {},
   "outputs": [],
   "source": [
    "# Make Sure you followed at least step 1-2 before running this cell.\n",
    "from  config import OPENAI_API_KEY, NCBI_API_KEY, EMAIL\n",
    "os.environ[\"OPENAI_API_KEY\"] = OPENAI_API_KEY"
   ]
  },
  {
   "cell_type": "markdown",
   "metadata": {},
   "source": [
    "### 3.- Defining your own promts:\n",
    "We have designed prompts for each step of Clinfo.ai Workflow, leaveriging the power of in-contex-learning. If you want to us your own promps you can edit them **src\\prompts** otherwise we will use the default prompts:"
   ]
  },
  {
   "cell_type": "code",
   "execution_count": 11,
   "metadata": {},
   "outputs": [],
   "source": [
    "PROMPS_PATH = os.path.join(\"..\",\"src\",\"clinfoai\",\"prompts\",\"PubMed\",\"Architecture_1\",\"master.json\")"
   ]
  },
  {
   "cell_type": "markdown",
   "metadata": {},
   "source": [
    "### 4.- Define Clinfo.AI LLM Backbone\n",
    "Clinfo uses a chain of LLMs to summarize information, thus we need to define an LLM backbone. \n",
    "\n",
    "We will start with OpenAI models, however, if you have access to GPUs it is possible to use Clinfo.AI with vLLM to use OpenSource LLMs as backbones (check tutorial 3)."
   ]
  },
  {
   "cell_type": "code",
   "execution_count": 12,
   "metadata": {},
   "outputs": [],
   "source": [
    "MODEL:str  = \"gpt-3.5-turbo\"\n",
    "#MODEL:str = \"Qwen/Qwen2-beta-7B-Chat\""
   ]
  },
  {
   "cell_type": "markdown",
   "metadata": {},
   "source": [
    "### 5.- Init Clinfo+Pubmed Engnie\n",
    "We have all the necessary data to start our clinfo+pubmed instance:"
   ]
  },
  {
   "cell_type": "code",
   "execution_count": 13,
   "metadata": {},
   "outputs": [
    {
     "name": "stdout",
     "output_type": "stream",
     "text": [
      "\n",
      "Task Name: pubmed_query_prompt\n",
      "------------------------------------------------------------------------\n",
      "\n",
      "Task Name: relevance_prompt\n",
      "------------------------------------------------------------------------\n",
      "\n",
      "Task Name: summarization_prompt\n",
      "------------------------------------------------------------------------\n",
      "\n",
      "Task Name: synthesize_prompt\n",
      "------------------------------------------------------------------------\n"
     ]
    }
   ],
   "source": [
    "## 5.- Init Neural Retriever from path. \n",
    "# Do not change the path if you want to use base  prompts, otherwise specify your own prompt architecture\n",
    "\n",
    "nrpm = PubMedNeuralRetriever(\n",
    "    architecture_path = PROMPS_PATH,\n",
    "    model             = MODEL,\n",
    "    verbose           = False,\n",
    "    debug             = False,\n",
    "    open_ai_key       = OPENAI_API_KEY,\n",
    "    email             = EMAIL)"
   ]
  },
  {
   "cell_type": "markdown",
   "metadata": {},
   "source": [
    "# Let's start!"
   ]
  },
  {
   "cell_type": "code",
   "execution_count": 14,
   "metadata": {},
   "outputs": [
    {
     "name": "stdout",
     "output_type": "stream",
     "text": [
      "Articles retrived: 10\n",
      "['prevalence COVID-19 United States']\n",
      "['35206474', '34281357', '33481900', '34888288', '35996224', '34311990', '36508742', '33663642', '37639043', '34922126']\n"
     ]
    }
   ],
   "source": [
    "### Step 0 : Ask a question ###\n",
    "QUESTION    = \"What is the prevalence of COVID-19 in the United States?\"\n",
    "\n",
    "\n",
    "## STEP 1 (Search PubMed): Convert the question into a query using an LLM\n",
    "# This returns a list of queries (containing MESH terms)\n",
    "# These queries are used to retrieve articles from NCBI\n",
    "# Once retrieved we collect a list article ids.\n",
    "pubmed_queries, article_ids = nrpm.search_pubmed(\n",
    "    question=QUESTION,\n",
    "    num_results=10,\n",
    "    num_query_attempts=1)\n",
    "\n",
    "print(f\"Articles retrived: {len(article_ids)}\")\n",
    "print(pubmed_queries)\n",
    "print(article_ids)"
   ]
  },
  {
   "cell_type": "code",
   "execution_count": 15,
   "metadata": {},
   "outputs": [
    {
     "name": "stdout",
     "output_type": "stream",
     "text": [
      "Article 1:\n",
      "\n",
      "['Myocarditis has been recognized as a rare complication of coronavirus disease 2019 (COVID-19) mRNA vaccinations, especially in young adult and adolescent males. According to the US Centers for Disease Control and Prevention, myocarditis/pericarditis rates are ≈12.6 cases per million doses of second-dose mRNA vaccine among individuals 12 to 39 years of age. In reported cases, patients with myocarditis invariably presented with chest pain, usually 2 to 3 days after a second dose of mRNA vaccination, and had elevated cardiac troponin levels. ECG was abnormal with ST elevations in most, and cardiac MRI was suggestive of myocarditis in all tested patients. There was no evidence of acute COVID-19 or other viral infections. In 1 case, a cardiomyopathy gene panel was negative, but autoantibody levels against certain self-antigens and frequency of natural killer cells were increased. Although the mechanisms for development of myocarditis are not clear, molecular mimicry between the spike protein of severe acute respiratory syndrome coronavirus-2 (SARS-CoV-2) and self-antigens, trigger of preexisting dysregulated immune pathways in certain individuals, immune response to mRNA, and activation of immunologic pathways, and dysregulated cytokine expression have been proposed. The reasons for male predominance in myocarditis cases are unknown, but possible explanations relate to sex hormone differences in immune response and myocarditis, and also underdiagnosis of cardiac disease in women. Almost all patients had resolution of symptoms and signs and improvement in diagnostic markers and imaging with or without treatment. Despite rare cases of myocarditis, the benefit-risk assessment for COVID-19 vaccination shows a favorable balance for all age and sex groups; therefore, COVID-19 vaccination is recommended for everyone ≥12 years of age.']\n"
     ]
    }
   ],
   "source": [
    "## Step 2: Fetch article data\n",
    "# Preiously, we only extracted he PMIDs. No we will use those  PMIDs to retrive the metadata:\n",
    "articles = nrpm.fetch_article_data(article_ids)\n",
    "\n",
    "# Print example for first article: \n",
    "article_num = 1\n",
    "print(f\"Article {article_num}:\\n\")\n",
    "\n",
    "#print(articles[article_num].keys())\n",
    "#print(articles[article_num]['PubmedData'])\n",
    "print(articles[article_num][\"MedlineCitation\"][\"Article\"][\"Abstract\"][\"AbstractText\"])\n",
    "#print(articles[article_num][\"MedlineCitation\"][\"Article\"])\n"
   ]
  },
  {
   "cell_type": "code",
   "execution_count": 16,
   "metadata": {},
   "outputs": [],
   "source": [
    "# STEP 3 Summarize each article\n",
    "# This step is parallelized, though it might look like one single call, it performs one call per article to summarize.\n",
    "# Then the relevancy of the article (based on the original question) is provided by another LLM call.\n",
    "\n",
    "article_summaries,irrelevant_articles =  nrpm.summarize_each_article(articles, QUESTION)"
   ]
  },
  {
   "cell_type": "code",
   "execution_count": 17,
   "metadata": {},
   "outputs": [
    {
     "data": {
      "text/plain": [
       "[{'title': 'United States response to the COVID-19 pandemic, January-November 2020.',\n",
       "  'url': 'https://pubmed.ncbi.nlm.nih.gov/33663642/',\n",
       "  'abstract': 'As of November 2020, the United States leads the world in confirmed coronavirus disease 2019 (COVID-19) cases and deaths. Over the past 10 months, the United States has experienced three peaks in new cases, with the most recent spike in November setting new records. Inaction and the lack of a scientifically informed, unified response have contributed to the sustained spread of COVID-19 in the United States. This paper describes major events and findings from the domestic response to COVID-19 from January to November 2020, including on preventing transmission, COVID-19 testing and contact tracing, ensuring sufficient physical infrastructure and healthcare workforce, paying for services, and governance. We further reflect on the public health response to-date and analyse the link between key policy decisions (e.g. closing, reopening) and COVID-19 cases in three states that are representative of the broader regions that have experienced spikes in cases. Finally, as we approach the winter months and undergo a change in national leadership, we highlight some considerations for the ongoing COVID-19 response and the broader United States healthcare system. These findings describe why the United States has failed to contain COVID-19 effectively to-date and can serve as a reference in the continued response to COVID-19 and future pandemics.',\n",
       "  'citation': 'Abelson R (2020) Doctors are calling it quits under stress of the pandemic. New York Times 170, B1–B3.',\n",
       "  'is_relevant': True,\n",
       "  'PMID': StringElement('33663642', attributes={'Version': '1'}),\n",
       "  'summary': \"Summary: The article discusses the prevalence of COVID-19 in the United States from January to November 2020, highlighting the country's leading position in confirmed cases and deaths. It also addresses the impact of policy decisions on the spread of the virus.\\n\\nStudy Design: Review article\\n\\nSample Size: Not applicable\\n\\nStudy Population: The study population includes the United States as a whole, with a focus on key policy decisions and their effects on COVID-19 transmission in three representative states.\\n\\nRisk of Bias: The article may have a risk of bias as it is a review article that synthesizes information rather than presenting original data. It is important to critically evaluate the sources and methodologies of the studies included in the review to assess the potential for bias.\"},\n",
       " {'title': 'COVID-19 Vaccine Hesitancy in the United States: A Systematic Review.',\n",
       "  'url': 'https://pubmed.ncbi.nlm.nih.gov/34888288/',\n",
       "  'abstract': 'Vaccine hesitancy in the US throughout the pandemic has revealed inconsistent results. This systematic review has compared COVID-19 vaccine uptake across US and investigated predictors of vaccine hesitancy and acceptance across different groups. A search of PUBMED database was conducted till 17th July, 2021. Articles that met the inclusion criteria were screened and 65 studies were selected for a quantitative analysis. The overall vaccine acceptance rate ranged from 12 to 91.4%, the willingness of studies using the 10-point scale ranged from 3.58 to 5.12. Increased unwillingness toward COVID-19 vaccine and Black/African Americans were found to be correlated. Sex, race, age, education level, and income status were identified as determining factors of having a low or high COVID-19 vaccine uptake. A change in vaccine acceptance in the US population was observed in two studies, an increase of 10.8 and 7.4%, respectively, between 2020 and 2021. Our results confirm that hesitancy exists in the US population, highest in Black/African Americans, pregnant or breastfeeding women, and low in the male sex. It is imperative for regulatory bodies to acknowledge these statistics and consequently, exert efforts to mitigate the burden of unvaccinated individuals and revise vaccine delivery plans, according to different vulnerable subgroups, across the country.',\n",
       "  'citation': 'Harrison EA, Wu JW. Vaccine confidence in the time of COVID-19. Eur J Epidemiol. (2020) 35:325–30. 10.1007/s10654-020-00634-3',\n",
       "  'is_relevant': True,\n",
       "  'PMID': StringElement('34888288', attributes={'Version': '1'}),\n",
       "  'summary': 'Summary: The study conducted a systematic review comparing COVID-19 vaccine uptake in the United States and investigating predictors of vaccine hesitancy and acceptance. The overall vaccine acceptance rate ranged from 12 to 91.4%, with factors such as sex, race, age, education level, and income status influencing vaccine uptake. There was an observed increase in vaccine acceptance in the US population between 2020 and 2021. Vaccine hesitancy was found to be highest among Black/African Americans and pregnant or breastfeeding women.\\n\\nStudy Design: Systematic review\\nSample Size: 65 studies\\nStudy Population: US population\\nRisk of Bias: The study may have some risk of bias as the data was collected from various studies with potentially differing methodologies and biases.'},\n",
       " {'title': 'Multiple COVID-19 Waves and Vaccination Effectiveness in the United States.',\n",
       "  'url': 'https://pubmed.ncbi.nlm.nih.gov/35206474/',\n",
       "  'abstract': '(1) Background: The coronavirus 2019 (COVID-19) pandemic has caused multiple waves of cases and deaths in the United States (US). The wild strain, the Alpha variant (B.1.1.7) and the Delta variant (B.1.617.2) of severe acute respiratory syndrome coronavirus 2 (SARS-CoV-2) were the principal culprits behind these waves. To mitigate the pandemic, the vaccination campaign was started in January 2021. While the vaccine efficacy is less than 1, breakthrough infections were reported. This work aims to examine the effects of the vaccination across 50 US states and the District of Columbia. (2) Methods: Based on the classic Susceptible-Exposed-Infectious-Recovered (SEIR) model, we add a delay class between infectious and death, a death class and a vaccinated class. We compare two special cases of our new model to simulate the effects of the vaccination. The first case expounds the vaccinated individuals with full protection or not, compared to the second case where all vaccinated individuals have the same level of protection. (3) Results: Through fitting the two approaches to reported COVID-19 deaths in all 50 US states and the District of Columbia, we found that these two approaches are equivalent. We calculate that the death toll could be 1.67-3.33 fold in most states if the vaccine was not available. The median and mean infection fatality ratio are estimated to be approximately 0.6 and 0.7%. (4) Conclusions: The two approaches we compared were equivalent in evaluating the effectiveness of the vaccination campaign in the US. In addition, the effect of the vaccination campaign was significant, with a large number of deaths averted.',\n",
       "  'citation': 'Caroline K., Samantha K., Jason S.B. UPDATED: Timeline of the Coronavirus.  [(accessed on 4 December 2021)].  Available online:  https://www.thinkglobalhealth.org/article/updated-timeline-coronavirus.',\n",
       "  'is_relevant': True,\n",
       "  'PMID': StringElement('35206474', attributes={'Version': '1'}),\n",
       "  'summary': 'Summary: The study aimed to examine the effects of the vaccination campaign on COVID-19 across 50 US states and the District of Columbia. The results showed that the vaccination campaign was effective in averting a large number of deaths, with the estimated infection fatality ratio being approximately 0.6-0.7%.\\n\\nStudy Design: Modeling study using a Susceptible-Exposed-Infectious-Recovered (SEIR) model with modifications to simulate the effects of vaccination.\\n\\nSample Size: The study analyzed data from all 50 US states and the District of Columbia.\\n\\nStudy Population: The study population included individuals across the United States.\\n\\nRisk of Bias: The study design may be subject to bias related to the assumptions and parameters used in the SEIR model. Additionally, the accuracy of the reported COVID-19 deaths in each state could impact the results.'},\n",
       " {'title': 'COVID-19 prevalence and predictors in United States adults during peak stay-at-home orders.',\n",
       "  'url': 'https://pubmed.ncbi.nlm.nih.gov/33481900/',\n",
       "  'abstract': \"BACKGROUND:\\nEarly recognition of COVID-19 cases is essential for effective public health measures aimed at isolation of individuals infected with severe acute respiratory syndrome coronavirus 2 (SARS-COV-2). The objective of this study was to describe characteristics, self-reported symptoms, and predictors of testing positive for SARS-CoV-2 infection in a community-based sample.\\n\\nMETHODS AND FINDINGS:\\nThis was a cross-sectional nationwide survey of adults in the US conducted between April 24 through May 13, 2020. The survey targeted a representative sample of approximately 5,000 respondents. The rate of COVID-19 cases and testing, most frequently reported symptoms, symptom severity, treatment received, impact of COVID-19 on mental and physical health, and factors predictive of testing positive were assessed. Most of the 5,203 participants (85.6%) reported no COVID-19-like symptoms. Of the 747 (14.5%) participants reporting COVID-19-like symptoms, 367 (49.1%) obtained a diagnostic test. Eighty-nine participants (24.3%) reported a positive COVID-19 test result, representing 1.7% of the total sample. For those testing positive, the most common symptoms were dry cough, fever, and shortness of breath/difficulty breathing. Those who tested positive were more likely to report greater symptom severity versus those who tested negative. Severe dry cough, new loss of taste or smell, trouble waking up, living with someone experiencing symptoms, recent international travel, respiratory issues, and reporting ethnicity of Black or African American were predictive of testing positive.\\n\\nCONCLUSIONS:\\nThis study assessed the impact of COVID-19 using community-level self-reported data across the US during the peak of most stay at home' orders. Self-reported symptoms and risk factors identified in this study are consistent with the clinical profile emerging for COVID-19. In the absence of widespread testing, this study demonstrates the utility of a representative US community-based sample to provide direct-reported symptoms and outcomes to quickly identify high-risk individuals who are likely to test positive and should consider taking greater precautions.\",\n",
       "  'citation': 'Centers for Disease Control and Prevention. Coronavirus Disease 2019 (COVID-19). Cases in the U.S. New Cases by Day. 2020 Jan 21 [Cited 2020 Aug 19]. Available from: https://www.cdc.gov/coronavirus/2019-ncov/cases-updates/cases-in-us.html',\n",
       "  'is_relevant': True,\n",
       "  'PMID': StringElement('33481900', attributes={'Version': '1'}),\n",
       "  'summary': 'Summary: The study aimed to describe characteristics, symptoms, and predictors of testing positive for SARS-CoV-2 infection in a community-based sample in the US during April 24 through May 13, 2020. Of the 5,203 participants, 14.5% reported COVID-19-like symptoms, with 1.7% testing positive for COVID-19. Symptoms such as dry cough, fever, and shortness of breath were common among those who tested positive.\\n\\nStudy Design: Cross-sectional nationwide survey\\nSample Size: 5,203 participants\\nStudy Population: Adults in the US\\nRisk of Bias: The study relied on self-reported symptoms and testing outcomes, which may be subject to recall bias and potential misreporting. Additionally, the study was conducted during a specific time frame, which may not fully represent the overall prevalence of COVID-19 in the US.'},\n",
       " {'title': 'COVID-19 in Children: Where do we Stand?',\n",
       "  'url': 'https://pubmed.ncbi.nlm.nih.gov/34311990/',\n",
       "  'abstract': 'From the beginning of the coronavirus disease 2019 (COVID-19) pandemic it became evident that children infected with the severe acute respiratory syndrome coronavirus 2 (SARS-CoV-2) remain mostly asymptomatic or mildly symptomatic. We reviewed the epidemiologic and clinical features of children with SARS-CoV-2 infection. The true prevalence of asymptomatic SARS-CoV-2 infection is most likely underestimated, as asymptomatic children are less frequently tested. Serologic surveys indicate that half of children tested positive for SARS-CoV-2 report no symptoms. Anosmia/ageusia is not frequent in children but it is the strongest predictor of a positive SARS-CoV-2 test. In general, children with COVID-19 are at lower risk of hospitalization and life-threatening complications. Nevertheless, cases of severe disease or a post-infectious multisystem hyperinflammatory syndrome named multisystem inflammatory syndrome in children (MIS-C) have been described. Rarely children with severe COVID-19 develop neurologic complications. In addition, studies indicate that school closures have a limited impact on SARS-CoV-2 transmission, much less than other social distancing measures. The past months new SARS-CoV-2 variants emerged with higher transmissibility and an increased impact on morbidity and deaths. The role of children in the transmission dynamics of these variants must be elucidated. Lastly, preliminary results from COVID-19 vaccine trials indicate very good efficacy and tolerability in children. Very recently the United States Centers for Disease Control and Prevention and other public health authorities recommend vaccination of children 12 years or older to protect them but mostly to contribute to the achievement of herd immunity.',\n",
       "  'citation': 'Team EE. Note from the editors: World Health Organization declares novel coronavirus (2019-nCoV) sixth public health emergency of international concern. Euro Surveill. 2020;25',\n",
       "  'is_relevant': True,\n",
       "  'PMID': StringElement('34311990', attributes={'Version': '1'}),\n",
       "  'summary': \"Summary: The article discusses the epidemiologic and clinical features of children with SARS-CoV-2 infection, highlighting that children infected with the virus are often asymptomatic or have mild symptoms. The true prevalence of asymptomatic cases is likely underestimated due to less frequent testing in children. Serologic surveys suggest that half of children who test positive for SARS-CoV-2 report no symptoms. Anosmia/ageusia is a rare symptom in children but strongly predicts a positive SARS-CoV-2 test. Children with COVID-19 are generally at lower risk of severe complications, hospitalization, and multisystem inflammatory syndrome, but rare cases of severe disease and neurologic complications have been reported. School closures have limited impact on virus transmission compared to other social distancing measures. New variants with higher transmissibility have emerged, raising questions about children's role in transmission dynamics. Preliminary vaccine trial results show good efficacy and tolerability in children, leading to recommendations for vaccination of children aged 12 and older in the US.\\n\\nStudy Design: Literature Review\\nSample Size: Not applicable\\nStudy Population: Children with SARS-CoV-2 infection\\nRisk of Bias: The article may have a risk of bias as it is a review of existing literature and may be subject to selection bias in the studies included.\"},\n",
       " {'title': 'Nirmatrelvir Plus Ritonavir for Early COVID-19 in a Large U.S. Health System : A Population-Based Cohort Study.',\n",
       "  'url': 'https://pubmed.ncbi.nlm.nih.gov/36508742/',\n",
       "  'abstract': 'BACKGROUND:\\nIn the EPIC-HR (Evaluation of Protease Inhibition for Covid-19 in High-Risk Patients) trial, nirmatrelvir plus ritonavir led to an 89% reduction in hospitalization or death among unvaccinated outpatients with early COVID-19. The clinical impact of nirmatrelvir plus ritonavir among vaccinated populations is uncertain.\\n\\nOBJECTIVE:\\nTo assess whether nirmatrelvir plus ritonavir reduces risk for hospitalization or death among outpatients with early COVID-19 in the setting of prevalent SARS-CoV-2 immunity and immune-evasive SARS-CoV-2 lineages.\\n\\nDESIGN:\\nPopulation-based cohort study analyzed to emulate a clinical trial using inverse probability-weighted models to account for anticipated bias in treatment.\\n\\nSETTING:\\nA large health care system providing care for 1.5 million patients in Massachusetts and New Hampshire during the Omicron wave (1 January to 17 July 2022).\\n\\nPATIENTS:\\n44\\xa0551 nonhospitalized adults (90.3% with ≥3 vaccine doses) aged 50 years or older with COVID-19 and no contraindications for nirmatrelvir plus ritonavir.\\n\\nMEASUREMENTS:\\nThe primary outcome was a composite of hospitalization within 14 days or death within 28 days of a COVID-19 diagnosis.\\n\\nRESULTS:\\nDuring the study period, 12\\xa0541 (28.1%) patients were prescribed nirmatrelvir plus ritonavir, and 32\\xa0010 (71.9%) were not. Patients prescribed nirmatrelvir plus ritonavir were more likely to be older, have more comorbidities, and be vaccinated. The composite outcome of hospitalization or death occurred in 69 (0.55%) patients who were prescribed nirmatrelvir plus ritonavir and 310 (0.97%) who were not (adjusted risk ratio, 0.56 [95% CI, 0.42 to 0.75]). Recipients of nirmatrelvir plus ritonavir had lower risk for hospitalization (adjusted risk ratio, 0.60 [CI, 0.44 to 0.81]) and death (adjusted risk ratio, 0.29 [CI, 0.12 to 0.71]).\\n\\nLIMITATION:\\nPotential residual confounding due to differential access to COVID-19 vaccines, diagnostic tests, and treatment.\\n\\nCONCLUSION:\\nThe overall risk for hospitalization or death was already low (1%) after an outpatient diagnosis of COVID-19, but nirmatrelvir plus ritonavir reduced this risk further.\\n\\nPRIMARY FUNDING SOURCE:\\nNational Institutes of Health.',\n",
       "  'citation': 'Hammond J,Leister-Tebbe H,Gardner A, et al; EPIC-HR Investigators. Oral nirmatrelvir for high-risk, nonhospitalized adults with Covid-19. N Engl J Med. 2022;386:1397-1408. [PMID: ] doi:10.1056/NEJMoa2118542',\n",
       "  'is_relevant': True,\n",
       "  'PMID': StringElement('36508742', attributes={'Version': '1'}),\n",
       "  'summary': 'Summary: The study aimed to assess whether nirmatrelvir plus ritonavir reduces the risk of hospitalization or death among outpatients with early COVID-19 in a population with prevalent SARS-CoV-2 immunity and immune-evasive SARS-CoV-2 lineages. The results showed that patients prescribed nirmatrelvir plus ritonavir had a lower risk of hospitalization or death compared to those who were not prescribed the treatment.\\n\\nStudy Design: Population-based cohort study analyzed to emulate a clinical trial using inverse probability-weighted models to account for anticipated bias in treatment.\\n\\nSample Size: The study included 44,551 nonhospitalized adults aged 50 years or older with COVID-19.\\n\\nStudy Population: The study population consisted of nonhospitalized adults aged 50 years or older with COVID-19 and no contraindications for nirmatrelvir plus ritonavir. 90.3% of the population had received at least 3 vaccine doses.\\n\\nRisk of Bias: One potential limitation mentioned in the study was the risk of potential residual confounding due to differential access to COVID-19 vaccines, diagnostic tests, and treatment.'},\n",
       " {'title': 'COVID-19 Testing of United States-Bound Agricultural Workers in Mexico.',\n",
       "  'url': 'https://pubmed.ncbi.nlm.nih.gov/37639043/',\n",
       "  'abstract': \"The COVID-19 pandemic presents global health, welfare, and economic concerns. The agricultural workforce has experienced adverse effects, placing the U.S. food supply at risk. Agricultural workers temporarily travel to the United States on H-2A visas to supplement the agricultural workforce. Approximately 300,000 agricultural workers enter the United States with H-2A visas each year; over 90.0% are from Mexico.\\xa0During February-May 2021, a COVID-19 testing pilot was performed with Clínica Médica Internacional (CMI), a clinic that performs medical examinations for US-bound immigrants, to determine the SARS-CoV-2 infection status of H-2A agricultural workers in Mexico before entry to the US. The CerTest VIASURE Real Time PCR Detection Kit was used. Participants' demographic information, test results, and testing turnaround times were collected. Workers who tested positive for SARS-CoV-2 completed isolation before US entry.\\xa0During the pilot, 1195\\xa0H-2A workers were tested; 15 (1.3%) tested positive. Average reporting time was 31\\xa0h after specimen collection.\\xa0This pilot demonstrated there is interest from H-2A employers and agents in testing the H-2A community before US entry. Testing for SARS-CoV-2 can yield public health benefit, is feasible, and does not delay entry of temporary agricultural workers to the US.\",\n",
       "  'citation': 'US Department of Agriculture. H-2A visa program for temporary workers. Farmers gov. 2020. https://www.farmers.gov/working-with-us/h2a-visa-program.',\n",
       "  'is_relevant': True,\n",
       "  'PMID': StringElement('37639043', attributes={'Version': '1'}),\n",
       "  'summary': 'Summary: The study aimed to determine the SARS-CoV-2 infection status of H-2A agricultural workers in Mexico before their entry into the United States. A COVID-19 testing pilot was conducted with 1195 H-2A workers, with 1.3% testing positive for the virus.\\n\\nStudy Design: Cross-sectional pilot study\\n\\nSample Size: 1195 H-2A agricultural workers\\n\\nStudy Population: H-2A agricultural workers in Mexico\\n\\nRisk of Bias: The study may have selection bias as it only included H-2A workers who were tested before entry to the US. Additionally, there may be information bias if there were inaccuracies in demographic information or test results collected.'}]"
      ]
     },
     "execution_count": 17,
     "metadata": {},
     "output_type": "execute_result"
    }
   ],
   "source": [
    "# Summaries for relevant articles\n",
    "article_summaries"
   ]
  },
  {
   "cell_type": "code",
   "execution_count": 18,
   "metadata": {},
   "outputs": [
    {
     "data": {
      "text/plain": [
       "[{'title': 'Myocarditis With COVID-19 mRNA Vaccines.',\n",
       "  'url': 'https://pubmed.ncbi.nlm.nih.gov/34281357/',\n",
       "  'abstract': 'Myocarditis has been recognized as a rare complication of coronavirus disease 2019 (COVID-19) mRNA vaccinations, especially in young adult and adolescent males. According to the US Centers for Disease Control and Prevention, myocarditis/pericarditis rates are ≈12.6 cases per million doses of second-dose mRNA vaccine among individuals 12 to 39 years of age. In reported cases, patients with myocarditis invariably presented with chest pain, usually 2 to 3 days after a second dose of mRNA vaccination, and had elevated cardiac troponin levels. ECG was abnormal with ST elevations in most, and cardiac MRI was suggestive of myocarditis in all tested patients. There was no evidence of acute COVID-19 or other viral infections. In 1 case, a cardiomyopathy gene panel was negative, but autoantibody levels against certain self-antigens and frequency of natural killer cells were increased. Although the mechanisms for development of myocarditis are not clear, molecular mimicry between the spike protein of severe acute respiratory syndrome coronavirus-2 (SARS-CoV-2) and self-antigens, trigger of preexisting dysregulated immune pathways in certain individuals, immune response to mRNA, and activation of immunologic pathways, and dysregulated cytokine expression have been proposed. The reasons for male predominance in myocarditis cases are unknown, but possible explanations relate to sex hormone differences in immune response and myocarditis, and also underdiagnosis of cardiac disease in women. Almost all patients had resolution of symptoms and signs and improvement in diagnostic markers and imaging with or without treatment. Despite rare cases of myocarditis, the benefit-risk assessment for COVID-19 vaccination shows a favorable balance for all age and sex groups; therefore, COVID-19 vaccination is recommended for everyone ≥12 years of age.',\n",
       "  'citation': 'Su JR, McNeil MM, Welsh KJ, Marquez PL, Ng C, Yan M, Cano MV. Myopericarditis after vaccination, Vaccine Adverse Event Reporting System (VAERS), 1990–2018. Vaccine. 2021;39:839–845. doi: 10.1016/j.vaccine.2020.12.046',\n",
       "  'is_relevant': False,\n",
       "  'PMID': StringElement('34281357', attributes={'Version': '1'})},\n",
       " {'title': 'Epidemiology of Neonatal COVID-19 in the United States.',\n",
       "  'url': 'https://pubmed.ncbi.nlm.nih.gov/35996224/',\n",
       "  'abstract': 'OBJECTIVES:\\nData on coronavirus disease 2019 (COVID-19) infections in neonates are limited. We aimed to identify and describe the incidence, presentation, and clinical outcomes of neonatal COVID-19.\\n\\nMETHODS:\\nOver 1 million neonatal encounters at 109 United States health systems, from March 2020 to February 2021, were extracted from the Cerner Real World Database. COVID-19 diagnosis was assessed using severe acute respiratory syndrome coronavirus 2 (SARS-CoV-2) laboratory tests and diagnosis codes. Incidence of COVID-19 per 100\\u2009000 encounters was estimated.\\n\\nRESULTS:\\nCOVID-19 was diagnosed in 918 (0.1%) neonates (91.1 per 100\\u2009000 encounters [95% confidence interval 85.3-97.2]). Of these, 71 (7.7%) had severe infection (7 per 100\\u2009000 [95% confidence interval 5.5-8.9]). Median time to diagnosis was 14.5 days from birth (interquartile range 3.1-24.2). Common signs of infection were tachypnea and fever. Those with severe infection were more likely to receive respiratory support (50.7% vs 5.2%, P < .001). Severely ill neonates received analgesia (38%), antibiotics (33.8%), anticoagulants (32.4%), corticosteroids (26.8%), remdesivir (2.8%), and COVID-19 convalescent plasma (1.4%). A total of 93.6% neonates were discharged home after care, 1.1% were transferred to another hospital, and discharge disposition was unknown for 5.2%. One neonate (0.1%) with presentation suggestive of multisystem inflammatory syndrome in children died after 11 days of hospitalization.\\n\\nCONCLUSIONS:\\nMost neonates infected with SARS-CoV-2 were asymptomatic or developed mild illness without need for respiratory support. Some had severe illness requiring treatment of COVID-19 with remdesivir and COVID-19 convalescent plasma. SARS-CoV-2 infection in neonates, though rare, may result in severe disease.',\n",
       "  'citation': 'Devin J, Marano R, Mikhael M, Feaster W, Sanger T, Ehwerhemuepha L. Epidemiology of Neonatal COVID-19 in the United States.. Pediatrics. 2022;150(4):.',\n",
       "  'is_relevant': False,\n",
       "  'PMID': StringElement('35996224', attributes={'Version': '1'})},\n",
       " {'title': 'New diagnosis of multiple sclerosis in the setting of mRNA COVID-19 vaccine exposure.',\n",
       "  'url': 'https://pubmed.ncbi.nlm.nih.gov/34922126/',\n",
       "  'abstract': 'BACKGROUND:\\nMultiple sclerosis (MS) with onset in the setting of acute SARS-CoV-2 virus infection has been reported, and reactivation of MS following non-mRNA COVID-19 vaccination has been noted, but there have only been three reports of newly diagnosed MS following exposure to mRNA COVID-19 vaccine. The association cannot be determined to be causal, as latent central nervous system demyelinating disease may unmask itself in the setting of an infection or a systemic inflammatory response. We report a series of 5 cases of newly diagnosed MS following recent exposure to mRNA COVID-19 vaccines. Latency from vaccination to initial presentation varied. Neurological manifestations and clinical course appeared to be typical for MS including response to high dose steroids in 4 cases and additional need for plasmapheresis in one case.\\n\\nCONCLUSION:\\nAcute neurological deficits in the setting of recent mRNA COVID-19 vaccine administration may represent new onset multiple sclerosis.',\n",
       "  'citation': 'Achiron A., Dolev M., Menascu S., et al. COVID-19 vaccination in patients with multiple sclerosis: what we have learnt by February 2021. Mult. Scler. Houndmills Basingstoke Engl. 2021;27(6):864–870. doi: 10.1177/13524585211003476.',\n",
       "  'is_relevant': False,\n",
       "  'PMID': StringElement('34922126', attributes={'Version': '1'})}]"
      ]
     },
     "execution_count": 18,
     "metadata": {},
     "output_type": "execute_result"
    }
   ],
   "source": [
    "# Articles deemed irelevant\n",
    "irrelevant_articles "
   ]
  },
  {
   "cell_type": "code",
   "execution_count": 20,
   "metadata": {},
   "outputs": [
    {
     "name": "stdout",
     "output_type": "stream",
     "text": [
      "synthesis\n",
      "Literature Summary: Studies with the strongest evidence suggest that the prevalence of COVID-19 in the United States varied over time, with factors such as policy decisions, vaccination campaigns, and the introduction of new variants influencing transmission rates. A systematic review reported COVID-19 vaccine acceptance rates ranging from 12% to 91.4% in the US population, with hesitancy highest among certain demographic groups. Modeling studies indicated that the vaccination campaign effectively reduced COVID-19 deaths, with an estimated infection fatality ratio of approximately 0.6-0.7%. Additionally, a community-based survey found a 1.7% positive rate for SARS-CoV-2 infection among US adults during a specific timeframe, with common symptoms including dry cough, fever, and shortness of breath. Children with COVID-19 generally experience milder symptoms and are at lower risk of severe complications, though rare cases of severe disease have been reported. Lastly, a population-based cohort study suggested that nirmatrelvir plus ritonavir reduced the risk of hospitalization or death among nonhospitalized older adults with prevalent SARS-CoV-2 immunity.\n",
      "\n",
      "TL;DR: The prevalence of COVID-19 in the United States has been influenced by various factors such as policy decisions, vaccination campaigns, and demographic characteristics, with vaccine acceptance rates ranging widely and the vaccination campaign showing effectiveness in reducing deaths.\n"
     ]
    }
   ],
   "source": [
    "# STEP 4 do a synthesis of all summaries to answer question: \n",
    "synthesis =   nrpm.synthesize_all_articles(article_summaries, QUESTION)\n",
    "print(\"synthesis\")\n",
    "print(synthesis)"
   ]
  },
  {
   "cell_type": "markdown",
   "metadata": {},
   "source": [
    "# Great! We answered our first question using Clinfo.AI!\n",
    "## Here are all the steps condensed:"
   ]
  },
  {
   "cell_type": "code",
   "execution_count": 16,
   "metadata": {},
   "outputs": [
    {
     "name": "stdout",
     "output_type": "stream",
     "text": [
      "\n",
      "Task Name: pubmed_query_prompt\n",
      "------------------------------------------------------------------------\n",
      "\n",
      "Task Name: relevance_prompt\n",
      "------------------------------------------------------------------------\n",
      "\n",
      "Task Name: summarization_prompt\n",
      "------------------------------------------------------------------------\n",
      "\n",
      "Task Name: synthesize_prompt\n",
      "------------------------------------------------------------------------\n",
      "Trying to init model via VLM\n",
      "Result:\n",
      "Literature Summary: The prevalence of COVID-19 in the United States varies across different populations and occupational groups. A cross-sectional study by Koh (2020) estimated that workers in the healthcare and social assistance industry, as well as healthcare professions and support roles, had elevated risks, with a national prevalence of around 1.7% in a community-based survey in 2020. A meta-analysis of hospitalized patients by Esper et al. (2021) found a prevalence of 6.9% with bacterial co-infection or secondary infection, with higher rates in critically ill patients. The Centers for Disease Control and Prevention's data showed a prevalence of 1.7% in a sample of 5,000 adults in April-May 2020. A web-based survey among dental hygienists found a prevalence of 3.1% with enhanced infection prevention measures, and a meta-analysis by Chen et al. (2021) estimated a global pooled prevalence of 0.43% in patients with COVID-19 28+ days post-infection. The US population experienced a 3-fold increase in depression symptoms during the pandemic, as reported by Healthline (2020). A descriptive analysis of CDC data found hypertension and diabetes as the most prevalent CVD conditions, with higher risks in racial and ethnic minority groups (Ahmad & Anderson, 2021).\n",
      "\n",
      "TL;DR: The prevalence of COVID-19 in the United States ranges from 1.7% in the general population to 6.9% among hospitalized patients, with higher risks among healthcare workers, and a global pooled prevalence of 0.43% in those with the disease. The pandemic also led to a significant increase in depression and disparities in CVD conditions, particularly among racial and ethnic minorities.\n",
      "\n",
      "References:\n",
      "1. Koh, D. (2020). Occupational risks for COVID-19 infection. Occup. Med. (Lond.), 70(1), 3-5. doi: 10.1093/occmed/kqaa036\n",
      "2. Esper, F.P., Spahlinger, T., Zhou, L. (2021). Rate and influence of respiratory virus co-infection on pandemic (H1N1) influenza disease. J. Infect., 63, 260-266\n",
      "3. Centers for Disease Control and Prevention. (2020). Coronavirus Disease 2019 (COVID-19). Cases in the U.S. New Cases by Day. [Accessed on August 19, 2020]. Available from: <https://www.cdc.gov/coronavirus/2019-ncov/cases-updates/cases-in-us.html>\n",
      "4. Estrich, C.G., et al. (2020). COVID-19 prevalence and related practices among dental hygienists in the United States. J. Dental Hyg., 95(1), 6-16\n",
      "5. Chen, C., et al. (2021). Global Prevalence of Post-Coronavirus Disease 2019 (COVID-19) Condition or Long COVID: A Meta-Analysis and Systematic Review. The Journal of Infectious Diseases, 226(9), 1593-1607\n",
      "6. Healthline. (2020). Traumatic events: causes, effects, and management. [Accessed on April 13, 2020]. <https://www.healthline.com/health/traumatic-events>\n",
      "7. Ahmad, F.B., Anderson, R.N. (2021). The leading causes of death in the US for 2020. JAMA, 325(18), 1829. doi: 10.1001/jama.2021.5469\n",
      "8. WHO Health Emergency Dashboard. (Accessed on October 12, 2021). <https://extranet.who.int/publicemergency>\n",
      "9. Abedi, V., Olulana, O., Avula, V., Chaudhary, D., Khan, A., Shahjouei, S., Li, J., Zand, R. (2020). Racial, Economic, and Health Inequality and COVID-19 Infection in the United States. medRxiv.\n"
     ]
    }
   ],
   "source": [
    "PROMPS_PATH  = os.path.join(\"..\",\"src\",\"clinfoai\",\"prompts\",\"PubMed\",\"Architecture_1\",\"master.json\")\n",
    "MODEL:str    = \"gpt-3.5-turbo\"\n",
    "MODEL:str    = \"Qwen/Qwen2-beta-7B-Chat\"\n",
    "\n",
    "nrpm = PubMedNeuralRetriever(\n",
    "    architecture_path = PROMPS_PATH,\n",
    "    model             = MODEL,\n",
    "    verbose           = False,\n",
    "    debug             = False,\n",
    "    open_ai_key       = OPENAI_API_KEY,\n",
    "    email             = EMAIL)\n",
    "\n",
    "### STEP 0: Ask a question ###\n",
    "question    = \"What is the prevalence of COVID-19 in the United States?\"\n",
    "\n",
    "### STEP 1: Search PubMed ###\n",
    "pubmed_queries, article_ids = nrpm.search_pubmed(question,num_results=10,num_query_attempts=1)\n",
    "\n",
    "### STEP 2: Fetch article data ###\n",
    "articles = nrpm.fetch_article_data(article_ids)\n",
    "\n",
    "### STEP 3 Summarize each article (only if they are relevant [Step 3]) ###\n",
    "article_summaries,irrelevant_articles =  nrpm.summarize_each_article(articles, question)\n",
    "\n",
    "\n",
    "### STEP 4: Synthesize the results ###\n",
    "synthesis =   nrpm.synthesize_all_articles(article_summaries, question)\n",
    "print(\"Result:\")\n",
    "print(synthesis)"
   ]
  },
  {
   "cell_type": "code",
   "execution_count": null,
   "metadata": {},
   "outputs": [],
   "source": []
  }
 ],
 "metadata": {
  "kernelspec": {
   "display_name": "Python clinfo)",
   "language": "python",
   "name": "clinfo"
  },
  "language_info": {
   "codemirror_mode": {
    "name": "ipython",
    "version": 3
   },
   "file_extension": ".py",
   "mimetype": "text/x-python",
   "name": "python",
   "nbconvert_exporter": "python",
   "pygments_lexer": "ipython3",
   "version": "3.9.16"
  }
 },
 "nbformat": 4,
 "nbformat_minor": 4
}
